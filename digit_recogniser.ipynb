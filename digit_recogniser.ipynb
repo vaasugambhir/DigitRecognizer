{
  "nbformat": 4,
  "nbformat_minor": 0,
  "metadata": {
    "kernelspec": {
      "display_name": "Python 3",
      "language": "python",
      "name": "python3"
    },
    "language_info": {
      "codemirror_mode": {
        "name": "ipython",
        "version": 3
      },
      "file_extension": ".py",
      "mimetype": "text/x-python",
      "name": "python",
      "nbconvert_exporter": "python",
      "pygments_lexer": "ipython3",
      "version": "3.7.3"
    },
    "colab": {
      "name": "digit recogniser.ipynb",
      "provenance": [],
      "collapsed_sections": []
    }
  },
  "cells": [
    {
      "cell_type": "code",
      "metadata": {
        "id": "2NnYIPwNNbpt",
        "colab_type": "code",
        "colab": {}
      },
      "source": [
        "import pandas as pd\n",
        "import numpy as np\n",
        "import cv2\n",
        "from tqdm import tqdm\n",
        "import os\n",
        "import csv"
      ],
      "execution_count": null,
      "outputs": []
    },
    {
      "cell_type": "code",
      "metadata": {
        "id": "RQeowuHNOuTf",
        "colab_type": "code",
        "colab": {
          "base_uri": "https://localhost:8080/",
          "height": 121
        },
        "outputId": "3ffbd904-ec18-42f7-b12f-701324579e43"
      },
      "source": [
        "from google.colab import drive\n",
        "drive.mount('/content/drive', force_remount=True)"
      ],
      "execution_count": null,
      "outputs": [
        {
          "output_type": "stream",
          "text": [
            "Go to this URL in a browser: https://accounts.google.com/o/oauth2/auth?client_id=947318989803-6bn6qk8qdgf4n4g3pfee6491hc0brc4i.apps.googleusercontent.com&redirect_uri=urn%3aietf%3awg%3aoauth%3a2.0%3aoob&scope=email%20https%3a%2f%2fwww.googleapis.com%2fauth%2fdocs.test%20https%3a%2f%2fwww.googleapis.com%2fauth%2fdrive%20https%3a%2f%2fwww.googleapis.com%2fauth%2fdrive.photos.readonly%20https%3a%2f%2fwww.googleapis.com%2fauth%2fpeopleapi.readonly&response_type=code\n",
            "\n",
            "Enter your authorization code:\n",
            "··········\n",
            "Mounted at /content/drive\n"
          ],
          "name": "stdout"
        }
      ]
    },
    {
      "cell_type": "code",
      "metadata": {
        "id": "Me2dPNM1Nbp2",
        "colab_type": "code",
        "colab": {}
      },
      "source": [
        "# GET BEST PARAMS\n",
        "\n",
        "os.chdir('/content/drive/My Drive/Digit Recognizer/Parameters')\n",
        "params = {}\n",
        "for l in range(1,4):\n",
        "    params['W' + str(l)] = np.array(pd.read_csv('params W' + str(l) + '.csv').values)\n",
        "    params['b' + str(l)] = np.array(pd.read_csv('params b' + str(l) + '.csv').values)"
      ],
      "execution_count": null,
      "outputs": []
    },
    {
      "cell_type": "code",
      "metadata": {
        "id": "1PaIu496Nbp-",
        "colab_type": "code",
        "colab": {}
      },
      "source": [
        "def create_op_vec(i):\n",
        "    op = np.zeros((10,1))\n",
        "    op[i] = 1\n",
        "    return op"
      ],
      "execution_count": null,
      "outputs": []
    },
    {
      "cell_type": "code",
      "metadata": {
        "id": "ZiG2zIXDNbqD",
        "colab_type": "code",
        "colab": {}
      },
      "source": [
        "# loading data\n",
        "os.chdir('/content/drive/My Drive/Digit Recognizer')\n",
        "train_csv = pd.read_csv('train.csv')\n",
        "data = np.array(train_csv.values)"
      ],
      "execution_count": null,
      "outputs": []
    },
    {
      "cell_type": "code",
      "metadata": {
        "id": "fnsEToFPNbqJ",
        "colab_type": "code",
        "colab": {}
      },
      "source": [
        "# gathering data\n",
        "Y = data.T[0].T\n",
        "X = np.uint8(data.T[1:785].T)\n",
        "\n",
        "# generating test and train sets\n",
        "x_train = X[0:40000]\n",
        "y_train = Y[0:40000]\n",
        "x_test = X[40000:42000]\n",
        "y_test = Y[40000:42000]\n",
        "\n",
        "for i in range(X.shape[0]):\n",
        "    _, f = cv2.threshold(X[i].reshape((28,28)), 80, 255, cv2.THRESH_BINARY)\n",
        "    X[i] = f.reshape(784)\n",
        "    X[i] = X[i]/255\n",
        "\n",
        "Y_train = []\n",
        "for i in y_train:\n",
        "    Y_train.append(create_op_vec(int(i)))\n",
        "Y_train = np.array(Y_train)\n",
        "Y_train = Y_train.reshape(40000, 10)\n",
        "Y_train = Y_train.T\n",
        "\n",
        "Y_test = []\n",
        "for i in y_test:\n",
        "    Y_test.append(create_op_vec(int(i)))\n",
        "Y_test = np.array(Y_test)\n",
        "Y_test = Y_test.reshape(2000, 10)\n",
        "Y_test = Y_test.T"
      ],
      "execution_count": null,
      "outputs": []
    },
    {
      "cell_type": "code",
      "metadata": {
        "id": "EaS4XVQLNbqO",
        "colab_type": "code",
        "colab": {}
      },
      "source": [
        "# cost function"
      ],
      "execution_count": null,
      "outputs": []
    },
    {
      "cell_type": "code",
      "metadata": {
        "id": "j7XobDMxNbqT",
        "colab_type": "code",
        "colab": {}
      },
      "source": [
        "def cost_function(parameters, A, Y, lambd):\n",
        "    m = Y.shape[1]\n",
        "    F = Y*np.log(A) + (1-Y)*np.log(1-A)\n",
        "    J = -np.sum(np.sum(F, axis = 1))/m\n",
        "    parasum = 0\n",
        "    L = int(len(parameters)/2)\n",
        "    for l in range(1, L + 1):\n",
        "        parasum += np.sum(np.sum(parameters['W' + str(l)]**2))\n",
        "    return J + parasum*lambd/(2*m)"
      ],
      "execution_count": null,
      "outputs": []
    },
    {
      "cell_type": "code",
      "metadata": {
        "id": "wM4E9xyHNbqb",
        "colab_type": "code",
        "colab": {}
      },
      "source": [
        "# FORWARD PROPAGATION"
      ],
      "execution_count": null,
      "outputs": []
    },
    {
      "cell_type": "code",
      "metadata": {
        "id": "LNzajwCCNbqh",
        "colab_type": "code",
        "colab": {}
      },
      "source": [
        "def initialise_parameters(layer_dims):\n",
        "    L = len(layer_dims) - 1\n",
        "    \n",
        "    parameters = {}\n",
        "    \n",
        "    for l in range(1,L + 1):\n",
        "        parameters[\"W\" + str(l)] = np.random.randn(layer_dims[l], layer_dims[l-1]) * 0.01\n",
        "        parameters[\"b\" + str(l)] = np.random.randn(layer_dims[l], 1) * 0.01\n",
        "        \n",
        "        assert(parameters['W' + str(l)].shape == (layer_dims[l], layer_dims[l-1]))\n",
        "        assert(parameters['b' + str(l)].shape == (layer_dims[l], 1))\n",
        "        \n",
        "    return parameters"
      ],
      "execution_count": null,
      "outputs": []
    },
    {
      "cell_type": "code",
      "metadata": {
        "id": "8wzef7H8Nbqm",
        "colab_type": "code",
        "colab": {}
      },
      "source": [
        "def relu(Z):\n",
        "    return np.maximum(0, Z)"
      ],
      "execution_count": null,
      "outputs": []
    },
    {
      "cell_type": "code",
      "metadata": {
        "id": "UNbJ-jJYNbqv",
        "colab_type": "code",
        "colab": {}
      },
      "source": [
        "def sigmoid(Z):\n",
        "    return 1/(1 + np.exp(-Z))"
      ],
      "execution_count": null,
      "outputs": []
    },
    {
      "cell_type": "code",
      "metadata": {
        "id": "eAoulW86Nbqz",
        "colab_type": "code",
        "colab": {}
      },
      "source": [
        "def linear_jump(A_prev, W, b):\n",
        "    return np.dot(W, A_prev) + b"
      ],
      "execution_count": null,
      "outputs": []
    },
    {
      "cell_type": "code",
      "metadata": {
        "id": "YQ82M_NkNbq3",
        "colab_type": "code",
        "colab": {}
      },
      "source": [
        "def forward_prop(parameters, X, Y, i, lambd):\n",
        "    \n",
        "    L = int(len(parameters)/2)\n",
        "    cacheZ = []\n",
        "    cacheA = []\n",
        "    cacheA.append(X)\n",
        "    A_prev = X\n",
        "    \n",
        "    for l in range(1,L):\n",
        "        Z = linear_jump(A_prev, parameters[\"W\" + str(l)], parameters[\"b\" + str(l)])\n",
        "        A_prev = relu(Z)\n",
        "        cacheZ.append(Z)\n",
        "        cacheA.append(A_prev)\n",
        "    \n",
        "    Z_final = linear_jump(A_prev, parameters[\"W\" + str(L)], parameters[\"b\" + str(L)])\n",
        "    AL = sigmoid(Z_final)\n",
        "    \n",
        "    cacheZ.append(Z_final)\n",
        "    \n",
        "    \n",
        "    if i%5 == 0:\n",
        "        print(\"Cost at iteration \" + str(i) + \" = \" + str(cost_function(parameters, AL, Y, lambd)))\n",
        "    \n",
        "    return cacheA, cacheZ, AL"
      ],
      "execution_count": null,
      "outputs": []
    },
    {
      "cell_type": "code",
      "metadata": {
        "id": "PvZKwMtlNbq9",
        "colab_type": "code",
        "colab": {}
      },
      "source": [
        "# BACKWARD PROPAGATAION"
      ],
      "execution_count": null,
      "outputs": []
    },
    {
      "cell_type": "code",
      "metadata": {
        "id": "zW0D0NOvNbrC",
        "colab_type": "code",
        "colab": {}
      },
      "source": [
        "def relu_backward(Z):\n",
        "    final = np.maximum(0, Z)\n",
        "    for i in range(final.shape[0]):\n",
        "        for j in range(final.shape[1]):\n",
        "            if final[i][j] != 0:\n",
        "                final[i][j] = 1\n",
        "    \n",
        "    return final"
      ],
      "execution_count": null,
      "outputs": []
    },
    {
      "cell_type": "code",
      "metadata": {
        "id": "PLiPCNIZNbrG",
        "colab_type": "code",
        "colab": {}
      },
      "source": [
        "def sigmoid_backward(Z):\n",
        "    A = sigmoid(Z)\n",
        "    return A*(1-A)"
      ],
      "execution_count": null,
      "outputs": []
    },
    {
      "cell_type": "code",
      "metadata": {
        "id": "OWdqCoTtNbrL",
        "colab_type": "code",
        "colab": {}
      },
      "source": [
        "def back_prop(parameters, X, Y, iteration, lambd):\n",
        "    \n",
        "    m = X.shape[1]\n",
        "    L = int(len(parameters)/2)\n",
        "    cacheA, cacheZ, AL = forward_prop(parameters, X, Y, iteration, lambd)\n",
        "    gradients = {}\n",
        "    \n",
        "    dZ = AL - Y\n",
        "    gradients['dW' + str(L)] = np.dot(dZ, cacheA[L-1].T)/m + lambd * parameters[\"W\" + str(L)] / m\n",
        "    gradients['db' + str(L)] = np.sum(dZ, axis=1, keepdims=True)/m\n",
        "    dA = np.dot(parameters['W' + str(L)].T, dZ)\n",
        "    \n",
        "    for l in reversed(range(1,L)):\n",
        "        dZ = dA * relu_backward(cacheZ[l-1])\n",
        "        gradients['dW' + str(l)] = np.dot(dZ, cacheA[l-1].T)/m + lambd * parameters[\"W\" + str(l)] / m\n",
        "        gradients['db' + str(l)] = np.sum(dZ, axis=1, keepdims=True)/m\n",
        "        dA = np.dot(parameters['W' + str(l)].T, dZ)\n",
        "        \n",
        "    return gradients"
      ],
      "execution_count": null,
      "outputs": []
    },
    {
      "cell_type": "code",
      "metadata": {
        "id": "z7W6MthrNbrQ",
        "colab_type": "code",
        "colab": {}
      },
      "source": [
        "# UPDATING PARAMETERS\n",
        "\n",
        "def jump(parameters, gradients, alpha):\n",
        "    L = int(len(parameters)/2)\n",
        "    for l in range(1, L + 1):\n",
        "        parameters[\"W\" + str(l)] -= alpha*gradients[\"dW\" + str(l)]\n",
        "        parameters[\"b\" + str(l)] -= alpha*gradients[\"db\" + str(l)]\n",
        "        \n",
        "    \n",
        "    return parameters"
      ],
      "execution_count": null,
      "outputs": []
    },
    {
      "cell_type": "code",
      "metadata": {
        "id": "Nvo0VBuONbrW",
        "colab_type": "code",
        "colab": {}
      },
      "source": [
        "# TRAINING OUR MODEL\n",
        "\n",
        "def train(X, Y, alpha, iterations, layer_dims, parameters, lambd):\n",
        "        \n",
        "    for i in tqdm(range(iterations)):\n",
        "        gradients = back_prop(parameters, X, Y, i, lambd)\n",
        "        parameters = jump(parameters, gradients, alpha)\n",
        "    \n",
        "    return parameters"
      ],
      "execution_count": null,
      "outputs": []
    },
    {
      "cell_type": "code",
      "metadata": {
        "id": "tRNrZdqiNbra",
        "colab_type": "code",
        "colab": {}
      },
      "source": [
        "# SPECIFYING NEURAL NETWORK\n",
        "\n",
        "n_x = 784\n",
        "n_y = 10\n",
        "n_h1 = 500\n",
        "n_h2 = 500\n",
        "n_h3 = 500\n",
        "layer_dims = np.array([n_x, n_h1, n_h2, n_y])\n",
        "r_parameters = initialise_parameters(layer_dims)"
      ],
      "execution_count": null,
      "outputs": []
    },
    {
      "cell_type": "code",
      "metadata": {
        "scrolled": true,
        "id": "Y2AS3sLjNbre",
        "colab_type": "code",
        "colab": {
          "base_uri": "https://localhost:8080/",
          "height": 1000
        },
        "outputId": "fe5b8b1c-d6ea-4c16-e599-84441e3ee18d"
      },
      "source": [
        "# GETTING OPTIMAL PARAMETERS\n",
        "\n",
        "params = train(x_train.T, Y_train, 0.102, 1000, layer_dims, params, 0)"
      ],
      "execution_count": null,
      "outputs": [
        {
          "output_type": "stream",
          "text": [
            "\r  0%|          | 0/1000 [00:00<?, ?it/s]"
          ],
          "name": "stderr"
        },
        {
          "output_type": "stream",
          "text": [
            "Cost at iteration 0 = 0.18760401256972692\n"
          ],
          "name": "stdout"
        },
        {
          "output_type": "stream",
          "text": [
            "  0%|          | 5/1000 [02:50<9:24:43, 34.05s/it]"
          ],
          "name": "stderr"
        },
        {
          "output_type": "stream",
          "text": [
            "Cost at iteration 5 = 0.1870445813893506\n"
          ],
          "name": "stdout"
        },
        {
          "output_type": "stream",
          "text": [
            "  1%|          | 10/1000 [05:40<9:22:01, 34.06s/it]"
          ],
          "name": "stderr"
        },
        {
          "output_type": "stream",
          "text": [
            "Cost at iteration 10 = 0.18648743285472622\n"
          ],
          "name": "stdout"
        },
        {
          "output_type": "stream",
          "text": [
            "  2%|▏         | 15/1000 [08:29<9:15:29, 33.84s/it]"
          ],
          "name": "stderr"
        },
        {
          "output_type": "stream",
          "text": [
            "Cost at iteration 15 = 0.18593247139502986\n"
          ],
          "name": "stdout"
        },
        {
          "output_type": "stream",
          "text": [
            "  2%|▏         | 20/1000 [11:22<9:25:03, 34.60s/it]"
          ],
          "name": "stderr"
        },
        {
          "output_type": "stream",
          "text": [
            "Cost at iteration 20 = 0.18537952340248498\n"
          ],
          "name": "stdout"
        },
        {
          "output_type": "stream",
          "text": [
            "  2%|▎         | 25/1000 [14:11<9:13:02, 34.03s/it]"
          ],
          "name": "stderr"
        },
        {
          "output_type": "stream",
          "text": [
            "Cost at iteration 25 = 0.18482906443387517\n"
          ],
          "name": "stdout"
        },
        {
          "output_type": "stream",
          "text": [
            "  3%|▎         | 30/1000 [17:00<9:06:11, 33.78s/it]"
          ],
          "name": "stderr"
        },
        {
          "output_type": "stream",
          "text": [
            "Cost at iteration 30 = 0.18428127903874164\n"
          ],
          "name": "stdout"
        },
        {
          "output_type": "stream",
          "text": [
            "  4%|▎         | 35/1000 [19:49<9:04:52, 33.88s/it]"
          ],
          "name": "stderr"
        },
        {
          "output_type": "stream",
          "text": [
            "Cost at iteration 35 = 0.18373565663061722\n"
          ],
          "name": "stdout"
        },
        {
          "output_type": "stream",
          "text": [
            "  4%|▍         | 40/1000 [22:42<9:08:32, 34.28s/it]"
          ],
          "name": "stderr"
        },
        {
          "output_type": "stream",
          "text": [
            "Cost at iteration 40 = 0.18319217892771045\n"
          ],
          "name": "stdout"
        },
        {
          "output_type": "stream",
          "text": [
            "  4%|▍         | 45/1000 [25:31<8:58:14, 33.82s/it]"
          ],
          "name": "stderr"
        },
        {
          "output_type": "stream",
          "text": [
            "Cost at iteration 45 = 0.1826507537828093\n"
          ],
          "name": "stdout"
        },
        {
          "output_type": "stream",
          "text": [
            "  5%|▌         | 50/1000 [28:21<8:57:22, 33.94s/it]"
          ],
          "name": "stderr"
        },
        {
          "output_type": "stream",
          "text": [
            "Cost at iteration 50 = 0.18211148198898863\n"
          ],
          "name": "stdout"
        },
        {
          "output_type": "stream",
          "text": [
            "  6%|▌         | 55/1000 [31:13<9:07:39, 34.77s/it]"
          ],
          "name": "stderr"
        },
        {
          "output_type": "stream",
          "text": [
            "Cost at iteration 55 = 0.1815742219398126\n"
          ],
          "name": "stdout"
        },
        {
          "output_type": "stream",
          "text": [
            "  6%|▌         | 60/1000 [34:03<8:54:25, 34.11s/it]"
          ],
          "name": "stderr"
        },
        {
          "output_type": "stream",
          "text": [
            "Cost at iteration 60 = 0.18103917202379788\n"
          ],
          "name": "stdout"
        },
        {
          "output_type": "stream",
          "text": [
            "  6%|▋         | 65/1000 [36:51<8:47:09, 33.83s/it]"
          ],
          "name": "stderr"
        },
        {
          "output_type": "stream",
          "text": [
            "Cost at iteration 65 = 0.1805066782727994\n"
          ],
          "name": "stdout"
        },
        {
          "output_type": "stream",
          "text": [
            "  7%|▋         | 70/1000 [39:41<8:44:11, 33.82s/it]"
          ],
          "name": "stderr"
        },
        {
          "output_type": "stream",
          "text": [
            "Cost at iteration 70 = 0.17997650693375217\n"
          ],
          "name": "stdout"
        },
        {
          "output_type": "stream",
          "text": [
            "  8%|▊         | 75/1000 [42:34<8:50:23, 34.40s/it]"
          ],
          "name": "stderr"
        },
        {
          "output_type": "stream",
          "text": [
            "Cost at iteration 75 = 0.17944870346301273\n"
          ],
          "name": "stdout"
        },
        {
          "output_type": "stream",
          "text": [
            "  8%|▊         | 80/1000 [45:24<8:41:15, 34.00s/it]"
          ],
          "name": "stderr"
        },
        {
          "output_type": "stream",
          "text": [
            "Cost at iteration 80 = 0.17892305200411587\n"
          ],
          "name": "stdout"
        },
        {
          "output_type": "stream",
          "text": [
            "  8%|▊         | 85/1000 [48:13<8:37:40, 33.95s/it]"
          ],
          "name": "stderr"
        },
        {
          "output_type": "stream",
          "text": [
            "Cost at iteration 85 = 0.17839957102352794\n"
          ],
          "name": "stdout"
        },
        {
          "output_type": "stream",
          "text": [
            "  9%|▉         | 90/1000 [51:04<8:36:50, 34.08s/it]"
          ],
          "name": "stderr"
        },
        {
          "output_type": "stream",
          "text": [
            "Cost at iteration 90 = 0.1778784814376164\n"
          ],
          "name": "stdout"
        },
        {
          "output_type": "stream",
          "text": [
            " 10%|▉         | 95/1000 [53:56<8:34:13, 34.09s/it]"
          ],
          "name": "stderr"
        },
        {
          "output_type": "stream",
          "text": [
            "Cost at iteration 95 = 0.17735960248337088\n"
          ],
          "name": "stdout"
        },
        {
          "output_type": "stream",
          "text": [
            " 10%|█         | 100/1000 [56:45<8:28:26, 33.90s/it]"
          ],
          "name": "stderr"
        },
        {
          "output_type": "stream",
          "text": [
            "Cost at iteration 100 = 0.1768427983562805\n"
          ],
          "name": "stdout"
        },
        {
          "output_type": "stream",
          "text": [
            " 10%|█         | 105/1000 [59:35<8:25:51, 33.91s/it]"
          ],
          "name": "stderr"
        },
        {
          "output_type": "stream",
          "text": [
            "Cost at iteration 105 = 0.1763280935192949\n"
          ],
          "name": "stdout"
        },
        {
          "output_type": "stream",
          "text": [
            " 11%|█         | 110/1000 [1:02:27<8:32:41, 34.56s/it]"
          ],
          "name": "stderr"
        },
        {
          "output_type": "stream",
          "text": [
            "Cost at iteration 110 = 0.1758153224553582\n"
          ],
          "name": "stdout"
        },
        {
          "output_type": "stream",
          "text": [
            " 12%|█▏        | 115/1000 [1:05:16<8:20:44, 33.95s/it]"
          ],
          "name": "stderr"
        },
        {
          "output_type": "stream",
          "text": [
            "Cost at iteration 115 = 0.17530472730551816\n"
          ],
          "name": "stdout"
        },
        {
          "output_type": "stream",
          "text": [
            " 12%|█▏        | 120/1000 [1:08:06<8:19:20, 34.05s/it]"
          ],
          "name": "stderr"
        },
        {
          "output_type": "stream",
          "text": [
            "Cost at iteration 120 = 0.17479644872656286\n"
          ],
          "name": "stdout"
        },
        {
          "output_type": "stream",
          "text": [
            " 12%|█▎        | 125/1000 [1:10:55<8:12:23, 33.76s/it]"
          ],
          "name": "stderr"
        },
        {
          "output_type": "stream",
          "text": [
            "Cost at iteration 125 = 0.1742901242034473\n"
          ],
          "name": "stdout"
        },
        {
          "output_type": "stream",
          "text": [
            " 13%|█▎        | 130/1000 [1:13:48<8:15:26, 34.17s/it]"
          ],
          "name": "stderr"
        },
        {
          "output_type": "stream",
          "text": [
            "Cost at iteration 130 = 0.17378582823456526\n"
          ],
          "name": "stdout"
        },
        {
          "output_type": "stream",
          "text": [
            " 14%|█▎        | 135/1000 [1:16:38<8:10:10, 34.00s/it]"
          ],
          "name": "stderr"
        },
        {
          "output_type": "stream",
          "text": [
            "Cost at iteration 135 = 0.17328344596883824\n"
          ],
          "name": "stdout"
        },
        {
          "output_type": "stream",
          "text": [
            " 14%|█▍        | 140/1000 [1:19:27<8:05:36, 33.88s/it]"
          ],
          "name": "stderr"
        },
        {
          "output_type": "stream",
          "text": [
            "Cost at iteration 140 = 0.17278279901130916\n"
          ],
          "name": "stdout"
        },
        {
          "output_type": "stream",
          "text": [
            " 14%|█▍        | 145/1000 [1:22:20<8:18:22, 34.97s/it]"
          ],
          "name": "stderr"
        },
        {
          "output_type": "stream",
          "text": [
            "Cost at iteration 145 = 0.17228378976385175\n"
          ],
          "name": "stdout"
        },
        {
          "output_type": "stream",
          "text": [
            " 15%|█▌        | 150/1000 [1:25:11<8:05:20, 34.26s/it]"
          ],
          "name": "stderr"
        },
        {
          "output_type": "stream",
          "text": [
            "Cost at iteration 150 = 0.17178645661225986\n"
          ],
          "name": "stdout"
        },
        {
          "output_type": "stream",
          "text": [
            " 16%|█▌        | 155/1000 [1:28:00<7:57:15, 33.89s/it]"
          ],
          "name": "stderr"
        },
        {
          "output_type": "stream",
          "text": [
            "Cost at iteration 155 = 0.17129127485692894\n"
          ],
          "name": "stdout"
        },
        {
          "output_type": "stream",
          "text": [
            " 16%|█▌        | 160/1000 [1:30:50<7:56:55, 34.07s/it]"
          ],
          "name": "stderr"
        },
        {
          "output_type": "stream",
          "text": [
            "Cost at iteration 160 = 0.1707979532898607\n"
          ],
          "name": "stdout"
        },
        {
          "output_type": "stream",
          "text": [
            " 16%|█▋        | 165/1000 [1:33:43<8:00:18, 34.51s/it]"
          ],
          "name": "stderr"
        },
        {
          "output_type": "stream",
          "text": [
            "Cost at iteration 165 = 0.1703063627004541\n"
          ],
          "name": "stdout"
        },
        {
          "output_type": "stream",
          "text": [
            " 17%|█▋        | 170/1000 [1:36:33<7:50:40, 34.02s/it]"
          ],
          "name": "stderr"
        },
        {
          "output_type": "stream",
          "text": [
            "Cost at iteration 170 = 0.16981658706238126\n"
          ],
          "name": "stdout"
        },
        {
          "output_type": "stream",
          "text": [
            " 18%|█▊        | 175/1000 [1:39:22<7:45:56, 33.89s/it]"
          ],
          "name": "stderr"
        },
        {
          "output_type": "stream",
          "text": [
            "Cost at iteration 175 = 0.16932880193272037\n"
          ],
          "name": "stdout"
        },
        {
          "output_type": "stream",
          "text": [
            " 18%|█▊        | 180/1000 [1:42:17<8:00:54, 35.19s/it]"
          ],
          "name": "stderr"
        },
        {
          "output_type": "stream",
          "text": [
            "Cost at iteration 180 = 0.16884297533863168\n"
          ],
          "name": "stdout"
        },
        {
          "output_type": "stream",
          "text": [
            " 18%|█▊        | 185/1000 [1:45:06<7:43:04, 34.09s/it]"
          ],
          "name": "stderr"
        },
        {
          "output_type": "stream",
          "text": [
            "Cost at iteration 185 = 0.16835902031910385\n"
          ],
          "name": "stdout"
        },
        {
          "output_type": "stream",
          "text": [
            " 19%|█▉        | 190/1000 [1:47:57<7:41:57, 34.22s/it]"
          ],
          "name": "stderr"
        },
        {
          "output_type": "stream",
          "text": [
            "Cost at iteration 190 = 0.16787678485143046\n"
          ],
          "name": "stdout"
        },
        {
          "output_type": "stream",
          "text": [
            " 20%|█▉        | 195/1000 [1:50:47<7:37:21, 34.09s/it]"
          ],
          "name": "stderr"
        },
        {
          "output_type": "stream",
          "text": [
            "Cost at iteration 195 = 0.16739658504741675\n"
          ],
          "name": "stdout"
        },
        {
          "output_type": "stream",
          "text": [
            " 20%|██        | 200/1000 [1:53:42<7:41:52, 34.64s/it]"
          ],
          "name": "stderr"
        },
        {
          "output_type": "stream",
          "text": [
            "Cost at iteration 200 = 0.16691842123328465\n"
          ],
          "name": "stdout"
        },
        {
          "output_type": "stream",
          "text": [
            " 20%|██        | 205/1000 [1:56:32<7:31:06, 34.05s/it]"
          ],
          "name": "stderr"
        },
        {
          "output_type": "stream",
          "text": [
            "Cost at iteration 205 = 0.1664420663525086\n"
          ],
          "name": "stdout"
        },
        {
          "output_type": "stream",
          "text": [
            " 21%|██        | 210/1000 [1:59:23<7:30:10, 34.19s/it]"
          ],
          "name": "stderr"
        },
        {
          "output_type": "stream",
          "text": [
            "Cost at iteration 210 = 0.16596767839823495\n"
          ],
          "name": "stdout"
        },
        {
          "output_type": "stream",
          "text": [
            " 22%|██▏       | 215/1000 [2:02:12<7:24:22, 33.96s/it]"
          ],
          "name": "stderr"
        },
        {
          "output_type": "stream",
          "text": [
            "Cost at iteration 215 = 0.16549500723823143\n"
          ],
          "name": "stdout"
        },
        {
          "output_type": "stream",
          "text": [
            " 22%|██▏       | 220/1000 [2:05:06<7:25:22, 34.26s/it]"
          ],
          "name": "stderr"
        },
        {
          "output_type": "stream",
          "text": [
            "Cost at iteration 220 = 0.1650242629003091\n"
          ],
          "name": "stdout"
        },
        {
          "output_type": "stream",
          "text": [
            " 22%|██▎       | 225/1000 [2:07:57<7:21:38, 34.19s/it]"
          ],
          "name": "stderr"
        },
        {
          "output_type": "stream",
          "text": [
            "Cost at iteration 225 = 0.16455523371037592\n"
          ],
          "name": "stdout"
        },
        {
          "output_type": "stream",
          "text": [
            " 23%|██▎       | 230/1000 [2:10:46<7:16:19, 34.00s/it]"
          ],
          "name": "stderr"
        },
        {
          "output_type": "stream",
          "text": [
            "Cost at iteration 230 = 0.16408800515382396\n"
          ],
          "name": "stdout"
        },
        {
          "output_type": "stream",
          "text": [
            " 24%|██▎       | 235/1000 [2:13:40<7:22:49, 34.73s/it]"
          ],
          "name": "stderr"
        },
        {
          "output_type": "stream",
          "text": [
            "Cost at iteration 235 = 0.16362272898679533\n"
          ],
          "name": "stdout"
        },
        {
          "output_type": "stream",
          "text": [
            " 24%|██▍       | 240/1000 [2:16:31<7:13:59, 34.26s/it]"
          ],
          "name": "stderr"
        },
        {
          "output_type": "stream",
          "text": [
            "Cost at iteration 240 = 0.16315904116943103\n"
          ],
          "name": "stdout"
        },
        {
          "output_type": "stream",
          "text": [
            " 24%|██▍       | 245/1000 [2:19:21<7:08:16, 34.03s/it]"
          ],
          "name": "stderr"
        },
        {
          "output_type": "stream",
          "text": [
            "Cost at iteration 245 = 0.162697221434105\n"
          ],
          "name": "stdout"
        },
        {
          "output_type": "stream",
          "text": [
            " 25%|██▌       | 250/1000 [2:22:11<7:05:40, 34.05s/it]"
          ],
          "name": "stderr"
        },
        {
          "output_type": "stream",
          "text": [
            "Cost at iteration 250 = 0.162237183105419\n"
          ],
          "name": "stdout"
        },
        {
          "output_type": "stream",
          "text": [
            " 26%|██▌       | 255/1000 [2:25:05<7:06:40, 34.36s/it]"
          ],
          "name": "stderr"
        },
        {
          "output_type": "stream",
          "text": [
            "Cost at iteration 255 = 0.1617788172970254\n"
          ],
          "name": "stdout"
        },
        {
          "output_type": "stream",
          "text": [
            " 26%|██▌       | 260/1000 [2:27:54<6:59:43, 34.03s/it]"
          ],
          "name": "stderr"
        },
        {
          "output_type": "stream",
          "text": [
            "Cost at iteration 260 = 0.1613221936161827\n"
          ],
          "name": "stdout"
        },
        {
          "output_type": "stream",
          "text": [
            " 26%|██▋       | 265/1000 [2:30:45<6:56:11, 33.97s/it]"
          ],
          "name": "stderr"
        },
        {
          "output_type": "stream",
          "text": [
            "Cost at iteration 265 = 0.16086736442926855\n"
          ],
          "name": "stdout"
        },
        {
          "output_type": "stream",
          "text": [
            " 27%|██▋       | 270/1000 [2:33:39<7:05:29, 34.97s/it]"
          ],
          "name": "stderr"
        },
        {
          "output_type": "stream",
          "text": [
            "Cost at iteration 270 = 0.1604143392443696\n"
          ],
          "name": "stdout"
        },
        {
          "output_type": "stream",
          "text": [
            " 28%|██▊       | 275/1000 [2:36:29<6:52:06, 34.11s/it]"
          ],
          "name": "stderr"
        },
        {
          "output_type": "stream",
          "text": [
            "Cost at iteration 275 = 0.15996296440195992\n"
          ],
          "name": "stdout"
        },
        {
          "output_type": "stream",
          "text": [
            " 28%|██▊       | 280/1000 [2:39:19<6:48:08, 34.01s/it]"
          ],
          "name": "stderr"
        },
        {
          "output_type": "stream",
          "text": [
            "Cost at iteration 280 = 0.1595130734835718\n"
          ],
          "name": "stdout"
        },
        {
          "output_type": "stream",
          "text": [
            " 28%|██▊       | 285/1000 [2:42:09<6:44:26, 33.94s/it]"
          ],
          "name": "stderr"
        },
        {
          "output_type": "stream",
          "text": [
            "Cost at iteration 285 = 0.15906492441494224\n"
          ],
          "name": "stdout"
        },
        {
          "output_type": "stream",
          "text": [
            " 29%|██▉       | 290/1000 [2:45:02<6:46:39, 34.37s/it]"
          ],
          "name": "stderr"
        },
        {
          "output_type": "stream",
          "text": [
            "Cost at iteration 290 = 0.1586182863412712\n"
          ],
          "name": "stdout"
        },
        {
          "output_type": "stream",
          "text": [
            " 30%|██▉       | 295/1000 [2:47:52<6:39:10, 33.97s/it]"
          ],
          "name": "stderr"
        },
        {
          "output_type": "stream",
          "text": [
            "Cost at iteration 295 = 0.15817323266360606\n"
          ],
          "name": "stdout"
        },
        {
          "output_type": "stream",
          "text": [
            " 30%|███       | 300/1000 [2:50:43<6:40:03, 34.29s/it]"
          ],
          "name": "stderr"
        },
        {
          "output_type": "stream",
          "text": [
            "Cost at iteration 300 = 0.15772968452181982\n"
          ],
          "name": "stdout"
        },
        {
          "output_type": "stream",
          "text": [
            " 30%|███       | 305/1000 [2:53:36<6:45:20, 34.99s/it]"
          ],
          "name": "stderr"
        },
        {
          "output_type": "stream",
          "text": [
            "Cost at iteration 305 = 0.15728752341137728\n"
          ],
          "name": "stdout"
        },
        {
          "output_type": "stream",
          "text": [
            " 31%|███       | 310/1000 [2:56:26<6:32:25, 34.12s/it]"
          ],
          "name": "stderr"
        },
        {
          "output_type": "stream",
          "text": [
            "Cost at iteration 310 = 0.15684685029776158\n"
          ],
          "name": "stdout"
        },
        {
          "output_type": "stream",
          "text": [
            " 32%|███▏      | 315/1000 [2:59:16<6:27:44, 33.96s/it]"
          ],
          "name": "stderr"
        },
        {
          "output_type": "stream",
          "text": [
            "Cost at iteration 315 = 0.15640799988287102\n"
          ],
          "name": "stdout"
        },
        {
          "output_type": "stream",
          "text": [
            " 32%|███▏      | 320/1000 [3:02:06<6:24:53, 33.96s/it]"
          ],
          "name": "stderr"
        },
        {
          "output_type": "stream",
          "text": [
            "Cost at iteration 320 = 0.15597074324607343\n"
          ],
          "name": "stdout"
        },
        {
          "output_type": "stream",
          "text": [
            " 32%|███▎      | 325/1000 [3:04:58<6:26:10, 34.33s/it]"
          ],
          "name": "stderr"
        },
        {
          "output_type": "stream",
          "text": [
            "Cost at iteration 325 = 0.15553486718061343\n"
          ],
          "name": "stdout"
        },
        {
          "output_type": "stream",
          "text": [
            " 33%|███▎      | 330/1000 [3:07:48<6:21:02, 34.12s/it]"
          ],
          "name": "stderr"
        },
        {
          "output_type": "stream",
          "text": [
            "Cost at iteration 330 = 0.1551003263848861\n"
          ],
          "name": "stdout"
        },
        {
          "output_type": "stream",
          "text": [
            " 34%|███▎      | 335/1000 [3:10:37<6:14:44, 33.81s/it]"
          ],
          "name": "stderr"
        },
        {
          "output_type": "stream",
          "text": [
            "Cost at iteration 335 = 0.15466720298400427\n"
          ],
          "name": "stdout"
        },
        {
          "output_type": "stream",
          "text": [
            " 34%|███▍      | 340/1000 [3:13:27<6:13:21, 33.94s/it]"
          ],
          "name": "stderr"
        },
        {
          "output_type": "stream",
          "text": [
            "Cost at iteration 340 = 0.1542356643927712\n"
          ],
          "name": "stdout"
        },
        {
          "output_type": "stream",
          "text": [
            " 34%|███▍      | 345/1000 [3:16:21<6:13:42, 34.23s/it]"
          ],
          "name": "stderr"
        },
        {
          "output_type": "stream",
          "text": [
            "Cost at iteration 345 = 0.15380593065275033\n"
          ],
          "name": "stdout"
        },
        {
          "output_type": "stream",
          "text": [
            " 35%|███▌      | 350/1000 [3:19:10<6:08:23, 34.00s/it]"
          ],
          "name": "stderr"
        },
        {
          "output_type": "stream",
          "text": [
            "Cost at iteration 350 = 0.15337793387878554\n"
          ],
          "name": "stdout"
        },
        {
          "output_type": "stream",
          "text": [
            " 36%|███▌      | 355/1000 [3:22:00<6:04:45, 33.93s/it]"
          ],
          "name": "stderr"
        },
        {
          "output_type": "stream",
          "text": [
            "Cost at iteration 355 = 0.15295143154997665\n"
          ],
          "name": "stdout"
        },
        {
          "output_type": "stream",
          "text": [
            " 36%|███▌      | 360/1000 [3:24:53<6:10:50, 34.77s/it]"
          ],
          "name": "stderr"
        },
        {
          "output_type": "stream",
          "text": [
            "Cost at iteration 360 = 0.15252643788159156\n"
          ],
          "name": "stdout"
        },
        {
          "output_type": "stream",
          "text": [
            " 36%|███▋      | 365/1000 [3:27:42<5:59:20, 33.95s/it]"
          ],
          "name": "stderr"
        },
        {
          "output_type": "stream",
          "text": [
            "Cost at iteration 365 = 0.15210298936153677\n"
          ],
          "name": "stdout"
        },
        {
          "output_type": "stream",
          "text": [
            " 37%|███▋      | 370/1000 [3:30:32<5:56:33, 33.96s/it]"
          ],
          "name": "stderr"
        },
        {
          "output_type": "stream",
          "text": [
            "Cost at iteration 370 = 0.15168118397012337\n"
          ],
          "name": "stdout"
        },
        {
          "output_type": "stream",
          "text": [
            " 38%|███▊      | 375/1000 [3:33:22<5:53:17, 33.92s/it]"
          ],
          "name": "stderr"
        },
        {
          "output_type": "stream",
          "text": [
            "Cost at iteration 375 = 0.1512609334647073\n"
          ],
          "name": "stdout"
        },
        {
          "output_type": "stream",
          "text": [
            " 38%|███▊      | 380/1000 [3:36:15<5:54:41, 34.33s/it]"
          ],
          "name": "stderr"
        },
        {
          "output_type": "stream",
          "text": [
            "Cost at iteration 380 = 0.1508421076737774\n"
          ],
          "name": "stdout"
        },
        {
          "output_type": "stream",
          "text": [
            " 38%|███▊      | 385/1000 [3:39:04<5:47:25, 33.90s/it]"
          ],
          "name": "stderr"
        },
        {
          "output_type": "stream",
          "text": [
            "Cost at iteration 385 = 0.15042484687159907\n"
          ],
          "name": "stdout"
        },
        {
          "output_type": "stream",
          "text": [
            " 39%|███▉      | 390/1000 [3:41:55<5:46:29, 34.08s/it]"
          ],
          "name": "stderr"
        },
        {
          "output_type": "stream",
          "text": [
            "Cost at iteration 390 = 0.15000893417689132\n"
          ],
          "name": "stdout"
        },
        {
          "output_type": "stream",
          "text": [
            " 40%|███▉      | 395/1000 [3:44:47<5:49:32, 34.66s/it]"
          ],
          "name": "stderr"
        },
        {
          "output_type": "stream",
          "text": [
            "Cost at iteration 395 = 0.1495946263024851\n"
          ],
          "name": "stdout"
        },
        {
          "output_type": "stream",
          "text": [
            " 40%|████      | 400/1000 [3:47:37<5:41:07, 34.11s/it]"
          ],
          "name": "stderr"
        },
        {
          "output_type": "stream",
          "text": [
            "Cost at iteration 400 = 0.14918170953094237\n"
          ],
          "name": "stdout"
        },
        {
          "output_type": "stream",
          "text": [
            " 40%|████      | 405/1000 [3:50:27<5:37:10, 34.00s/it]"
          ],
          "name": "stderr"
        },
        {
          "output_type": "stream",
          "text": [
            "Cost at iteration 405 = 0.14877034856480553\n"
          ],
          "name": "stdout"
        },
        {
          "output_type": "stream",
          "text": [
            " 41%|████      | 410/1000 [3:53:17<5:34:22, 34.00s/it]"
          ],
          "name": "stderr"
        },
        {
          "output_type": "stream",
          "text": [
            "Cost at iteration 410 = 0.14836054551791697\n"
          ],
          "name": "stdout"
        },
        {
          "output_type": "stream",
          "text": [
            " 42%|████▏     | 415/1000 [3:56:10<5:33:32, 34.21s/it]"
          ],
          "name": "stderr"
        },
        {
          "output_type": "stream",
          "text": [
            "Cost at iteration 415 = 0.147952387304344\n"
          ],
          "name": "stdout"
        },
        {
          "output_type": "stream",
          "text": [
            " 42%|████▏     | 420/1000 [3:59:01<5:30:21, 34.17s/it]"
          ],
          "name": "stderr"
        },
        {
          "output_type": "stream",
          "text": [
            "Cost at iteration 420 = 0.1475459160410029\n"
          ],
          "name": "stdout"
        },
        {
          "output_type": "stream",
          "text": [
            " 42%|████▎     | 425/1000 [4:01:50<5:24:30, 33.86s/it]"
          ],
          "name": "stderr"
        },
        {
          "output_type": "stream",
          "text": [
            "Cost at iteration 425 = 0.14714110824278542\n"
          ],
          "name": "stdout"
        },
        {
          "output_type": "stream",
          "text": [
            " 43%|████▎     | 430/1000 [4:04:43<5:33:31, 35.11s/it]"
          ],
          "name": "stderr"
        },
        {
          "output_type": "stream",
          "text": [
            "Cost at iteration 430 = 0.14673781042653566\n"
          ],
          "name": "stdout"
        },
        {
          "output_type": "stream",
          "text": [
            " 44%|████▎     | 435/1000 [4:07:33<5:20:55, 34.08s/it]"
          ],
          "name": "stderr"
        },
        {
          "output_type": "stream",
          "text": [
            "Cost at iteration 435 = 0.14633589168125918\n"
          ],
          "name": "stdout"
        },
        {
          "output_type": "stream",
          "text": [
            " 44%|████▍     | 440/1000 [4:10:22<5:16:54, 33.95s/it]"
          ],
          "name": "stderr"
        },
        {
          "output_type": "stream",
          "text": [
            "Cost at iteration 440 = 0.14593520947663868\n"
          ],
          "name": "stdout"
        },
        {
          "output_type": "stream",
          "text": [
            " 44%|████▍     | 445/1000 [4:13:12<5:13:05, 33.85s/it]"
          ],
          "name": "stderr"
        },
        {
          "output_type": "stream",
          "text": [
            "Cost at iteration 445 = 0.14553589922720697\n"
          ],
          "name": "stdout"
        },
        {
          "output_type": "stream",
          "text": [
            " 45%|████▌     | 450/1000 [4:16:06<5:17:50, 34.67s/it]"
          ],
          "name": "stderr"
        },
        {
          "output_type": "stream",
          "text": [
            "Cost at iteration 450 = 0.14513798542396952\n"
          ],
          "name": "stdout"
        },
        {
          "output_type": "stream",
          "text": [
            " 46%|████▌     | 455/1000 [4:18:56<5:08:57, 34.01s/it]"
          ],
          "name": "stderr"
        },
        {
          "output_type": "stream",
          "text": [
            "Cost at iteration 455 = 0.1447413856755264\n"
          ],
          "name": "stdout"
        },
        {
          "output_type": "stream",
          "text": [
            " 46%|████▌     | 460/1000 [4:21:46<5:06:47, 34.09s/it]"
          ],
          "name": "stderr"
        },
        {
          "output_type": "stream",
          "text": [
            "Cost at iteration 460 = 0.14434607216665798\n"
          ],
          "name": "stdout"
        },
        {
          "output_type": "stream",
          "text": [
            " 46%|████▋     | 465/1000 [4:24:36<5:02:04, 33.88s/it]"
          ],
          "name": "stderr"
        },
        {
          "output_type": "stream",
          "text": [
            "Cost at iteration 465 = 0.1439521807953498\n"
          ],
          "name": "stdout"
        },
        {
          "output_type": "stream",
          "text": [
            " 47%|████▋     | 470/1000 [4:27:29<5:01:47, 34.17s/it]"
          ],
          "name": "stderr"
        },
        {
          "output_type": "stream",
          "text": [
            "Cost at iteration 470 = 0.14355991363131052\n"
          ],
          "name": "stdout"
        },
        {
          "output_type": "stream",
          "text": [
            " 48%|████▊     | 475/1000 [4:30:18<4:56:09, 33.85s/it]"
          ],
          "name": "stderr"
        },
        {
          "output_type": "stream",
          "text": [
            "Cost at iteration 475 = 0.14316907178980542\n"
          ],
          "name": "stdout"
        },
        {
          "output_type": "stream",
          "text": [
            " 48%|████▊     | 480/1000 [4:33:08<4:55:25, 34.09s/it]"
          ],
          "name": "stderr"
        },
        {
          "output_type": "stream",
          "text": [
            "Cost at iteration 480 = 0.14277981707515636\n"
          ],
          "name": "stdout"
        },
        {
          "output_type": "stream",
          "text": [
            " 48%|████▊     | 485/1000 [4:36:01<4:56:58, 34.60s/it]"
          ],
          "name": "stderr"
        },
        {
          "output_type": "stream",
          "text": [
            "Cost at iteration 485 = 0.14239193932742683\n"
          ],
          "name": "stdout"
        },
        {
          "output_type": "stream",
          "text": [
            " 49%|████▉     | 490/1000 [4:38:51<4:49:33, 34.07s/it]"
          ],
          "name": "stderr"
        },
        {
          "output_type": "stream",
          "text": [
            "Cost at iteration 490 = 0.1420055537244467\n"
          ],
          "name": "stdout"
        },
        {
          "output_type": "stream",
          "text": [
            " 50%|████▉     | 495/1000 [4:41:40<4:45:04, 33.87s/it]"
          ],
          "name": "stderr"
        },
        {
          "output_type": "stream",
          "text": [
            "Cost at iteration 495 = 0.1416202711187926\n"
          ],
          "name": "stdout"
        },
        {
          "output_type": "stream",
          "text": [
            " 50%|█████     | 500/1000 [4:44:30<4:42:21, 33.88s/it]"
          ],
          "name": "stderr"
        },
        {
          "output_type": "stream",
          "text": [
            "Cost at iteration 500 = 0.14123617803223662\n"
          ],
          "name": "stdout"
        },
        {
          "output_type": "stream",
          "text": [
            " 50%|█████     | 505/1000 [4:47:23<4:42:30, 34.24s/it]"
          ],
          "name": "stderr"
        },
        {
          "output_type": "stream",
          "text": [
            "Cost at iteration 505 = 0.14085340205866298\n"
          ],
          "name": "stdout"
        },
        {
          "output_type": "stream",
          "text": [
            " 51%|█████     | 510/1000 [4:50:13<4:38:46, 34.14s/it]"
          ],
          "name": "stderr"
        },
        {
          "output_type": "stream",
          "text": [
            "Cost at iteration 510 = 0.14047164468019854\n"
          ],
          "name": "stdout"
        },
        {
          "output_type": "stream",
          "text": [
            " 52%|█████▏    | 515/1000 [4:53:02<4:34:08, 33.91s/it]"
          ],
          "name": "stderr"
        },
        {
          "output_type": "stream",
          "text": [
            "Cost at iteration 515 = 0.140091328506184\n"
          ],
          "name": "stdout"
        },
        {
          "output_type": "stream",
          "text": [
            " 52%|█████▏    | 520/1000 [4:55:56<4:39:11, 34.90s/it]"
          ],
          "name": "stderr"
        },
        {
          "output_type": "stream",
          "text": [
            "Cost at iteration 520 = 0.13971240374982863\n"
          ],
          "name": "stdout"
        },
        {
          "output_type": "stream",
          "text": [
            " 52%|█████▎    | 525/1000 [4:58:46<4:29:38, 34.06s/it]"
          ],
          "name": "stderr"
        },
        {
          "output_type": "stream",
          "text": [
            "Cost at iteration 525 = 0.13933488576725073\n"
          ],
          "name": "stdout"
        },
        {
          "output_type": "stream",
          "text": [
            " 53%|█████▎    | 530/1000 [5:01:35<4:25:57, 33.95s/it]"
          ],
          "name": "stderr"
        },
        {
          "output_type": "stream",
          "text": [
            "Cost at iteration 530 = 0.13895852496340844\n"
          ],
          "name": "stdout"
        },
        {
          "output_type": "stream",
          "text": [
            " 54%|█████▎    | 535/1000 [5:04:25<4:22:24, 33.86s/it]"
          ],
          "name": "stderr"
        },
        {
          "output_type": "stream",
          "text": [
            "Cost at iteration 535 = 0.13858345789618465\n"
          ],
          "name": "stdout"
        },
        {
          "output_type": "stream",
          "text": [
            " 54%|█████▍    | 540/1000 [5:07:19<4:24:46, 34.54s/it]"
          ],
          "name": "stderr"
        },
        {
          "output_type": "stream",
          "text": [
            "Cost at iteration 540 = 0.1382098064401305\n"
          ],
          "name": "stdout"
        },
        {
          "output_type": "stream",
          "text": [
            " 55%|█████▍    | 545/1000 [5:10:09<4:18:06, 34.04s/it]"
          ],
          "name": "stderr"
        },
        {
          "output_type": "stream",
          "text": [
            "Cost at iteration 545 = 0.1378374923112261\n"
          ],
          "name": "stdout"
        },
        {
          "output_type": "stream",
          "text": [
            " 55%|█████▌    | 550/1000 [5:13:00<4:16:13, 34.16s/it]"
          ],
          "name": "stderr"
        },
        {
          "output_type": "stream",
          "text": [
            "Cost at iteration 550 = 0.1374667019633014\n"
          ],
          "name": "stdout"
        },
        {
          "output_type": "stream",
          "text": [
            " 56%|█████▌    | 555/1000 [5:15:53<4:19:44, 35.02s/it]"
          ],
          "name": "stderr"
        },
        {
          "output_type": "stream",
          "text": [
            "Cost at iteration 555 = 0.13709715812748183\n"
          ],
          "name": "stdout"
        },
        {
          "output_type": "stream",
          "text": [
            " 56%|█████▌    | 560/1000 [5:18:43<4:11:29, 34.29s/it]"
          ],
          "name": "stderr"
        },
        {
          "output_type": "stream",
          "text": [
            "Cost at iteration 560 = 0.13672878079765557\n"
          ],
          "name": "stdout"
        },
        {
          "output_type": "stream",
          "text": [
            " 56%|█████▋    | 565/1000 [5:21:33<4:06:01, 33.93s/it]"
          ],
          "name": "stderr"
        },
        {
          "output_type": "stream",
          "text": [
            "Cost at iteration 565 = 0.1363614738485096\n"
          ],
          "name": "stdout"
        },
        {
          "output_type": "stream",
          "text": [
            " 57%|█████▋    | 570/1000 [5:24:24<4:04:57, 34.18s/it]"
          ],
          "name": "stderr"
        },
        {
          "output_type": "stream",
          "text": [
            "Cost at iteration 570 = 0.13599563994544175\n"
          ],
          "name": "stdout"
        },
        {
          "output_type": "stream",
          "text": [
            " 57%|█████▊    | 575/1000 [5:27:17<4:03:35, 34.39s/it]"
          ],
          "name": "stderr"
        },
        {
          "output_type": "stream",
          "text": [
            "Cost at iteration 575 = 0.13563107441889838\n"
          ],
          "name": "stdout"
        },
        {
          "output_type": "stream",
          "text": [
            " 58%|█████▊    | 580/1000 [5:30:07<3:58:57, 34.14s/it]"
          ],
          "name": "stderr"
        },
        {
          "output_type": "stream",
          "text": [
            "Cost at iteration 580 = 0.13526771000914745\n"
          ],
          "name": "stdout"
        },
        {
          "output_type": "stream",
          "text": [
            " 58%|█████▊    | 585/1000 [5:32:57<3:54:27, 33.90s/it]"
          ],
          "name": "stderr"
        },
        {
          "output_type": "stream",
          "text": [
            "Cost at iteration 585 = 0.13490567520772392\n"
          ],
          "name": "stdout"
        },
        {
          "output_type": "stream",
          "text": [
            " 59%|█████▉    | 590/1000 [5:35:47<3:52:09, 33.97s/it]"
          ],
          "name": "stderr"
        },
        {
          "output_type": "stream",
          "text": [
            "Cost at iteration 590 = 0.1345448126306832\n"
          ],
          "name": "stdout"
        },
        {
          "output_type": "stream",
          "text": [
            " 60%|█████▉    | 595/1000 [5:38:40<3:50:12, 34.11s/it]"
          ],
          "name": "stderr"
        },
        {
          "output_type": "stream",
          "text": [
            "Cost at iteration 595 = 0.13418508369443072\n"
          ],
          "name": "stdout"
        },
        {
          "output_type": "stream",
          "text": [
            " 60%|██████    | 600/1000 [5:41:30<3:47:34, 34.14s/it]"
          ],
          "name": "stderr"
        },
        {
          "output_type": "stream",
          "text": [
            "Cost at iteration 600 = 0.13382662728726294\n"
          ],
          "name": "stdout"
        },
        {
          "output_type": "stream",
          "text": [
            " 60%|██████    | 605/1000 [5:44:20<3:43:33, 33.96s/it]"
          ],
          "name": "stderr"
        },
        {
          "output_type": "stream",
          "text": [
            "Cost at iteration 605 = 0.13346933738937986\n"
          ],
          "name": "stdout"
        },
        {
          "output_type": "stream",
          "text": [
            " 61%|██████    | 610/1000 [5:47:13<3:45:40, 34.72s/it]"
          ],
          "name": "stderr"
        },
        {
          "output_type": "stream",
          "text": [
            "Cost at iteration 610 = 0.13311325026865406\n"
          ],
          "name": "stdout"
        },
        {
          "output_type": "stream",
          "text": [
            " 62%|██████▏   | 615/1000 [5:50:03<3:38:38, 34.07s/it]"
          ],
          "name": "stderr"
        },
        {
          "output_type": "stream",
          "text": [
            "Cost at iteration 615 = 0.13275835425990354\n"
          ],
          "name": "stdout"
        },
        {
          "output_type": "stream",
          "text": [
            " 62%|██████▏   | 620/1000 [5:52:53<3:35:14, 33.99s/it]"
          ],
          "name": "stderr"
        },
        {
          "output_type": "stream",
          "text": [
            "Cost at iteration 620 = 0.13240476601066256\n"
          ],
          "name": "stdout"
        },
        {
          "output_type": "stream",
          "text": [
            " 62%|██████▎   | 625/1000 [5:55:42<3:31:41, 33.87s/it]"
          ],
          "name": "stderr"
        },
        {
          "output_type": "stream",
          "text": [
            "Cost at iteration 625 = 0.1320524375191638\n"
          ],
          "name": "stdout"
        },
        {
          "output_type": "stream",
          "text": [
            " 63%|██████▎   | 630/1000 [5:58:36<3:32:09, 34.40s/it]"
          ],
          "name": "stderr"
        },
        {
          "output_type": "stream",
          "text": [
            "Cost at iteration 630 = 0.1317012854410776\n"
          ],
          "name": "stdout"
        },
        {
          "output_type": "stream",
          "text": [
            " 64%|██████▎   | 635/1000 [6:01:26<3:26:42, 33.98s/it]"
          ],
          "name": "stderr"
        },
        {
          "output_type": "stream",
          "text": [
            "Cost at iteration 635 = 0.1313514892826258\n"
          ],
          "name": "stdout"
        },
        {
          "output_type": "stream",
          "text": [
            " 64%|██████▍   | 640/1000 [6:04:17<3:24:33, 34.09s/it]"
          ],
          "name": "stderr"
        },
        {
          "output_type": "stream",
          "text": [
            "Cost at iteration 640 = 0.13100310438005655\n"
          ],
          "name": "stdout"
        },
        {
          "output_type": "stream",
          "text": [
            " 64%|██████▍   | 645/1000 [6:07:11<3:25:49, 34.79s/it]"
          ],
          "name": "stderr"
        },
        {
          "output_type": "stream",
          "text": [
            "Cost at iteration 645 = 0.1306557806184927\n"
          ],
          "name": "stdout"
        },
        {
          "output_type": "stream",
          "text": [
            " 65%|██████▌   | 650/1000 [6:10:01<3:19:43, 34.24s/it]"
          ],
          "name": "stderr"
        },
        {
          "output_type": "stream",
          "text": [
            "Cost at iteration 650 = 0.1303098075597255\n"
          ],
          "name": "stdout"
        },
        {
          "output_type": "stream",
          "text": [
            " 66%|██████▌   | 655/1000 [6:12:51<3:15:43, 34.04s/it]"
          ],
          "name": "stderr"
        },
        {
          "output_type": "stream",
          "text": [
            "Cost at iteration 655 = 0.1299651211060669\n"
          ],
          "name": "stdout"
        },
        {
          "output_type": "stream",
          "text": [
            " 66%|██████▌   | 660/1000 [6:15:42<3:13:34, 34.16s/it]"
          ],
          "name": "stderr"
        },
        {
          "output_type": "stream",
          "text": [
            "Cost at iteration 660 = 0.12962149483435692\n"
          ],
          "name": "stdout"
        },
        {
          "output_type": "stream",
          "text": [
            " 66%|██████▋   | 665/1000 [6:18:36<3:12:11, 34.42s/it]"
          ],
          "name": "stderr"
        },
        {
          "output_type": "stream",
          "text": [
            "Cost at iteration 665 = 0.1292793014960198\n"
          ],
          "name": "stdout"
        },
        {
          "output_type": "stream",
          "text": [
            " 67%|██████▋   | 670/1000 [6:21:28<3:08:47, 34.33s/it]"
          ],
          "name": "stderr"
        },
        {
          "output_type": "stream",
          "text": [
            "Cost at iteration 670 = 0.12893846550434535\n"
          ],
          "name": "stdout"
        },
        {
          "output_type": "stream",
          "text": [
            " 68%|██████▊   | 675/1000 [6:24:18<3:04:11, 34.00s/it]"
          ],
          "name": "stderr"
        },
        {
          "output_type": "stream",
          "text": [
            "Cost at iteration 675 = 0.12859886085147565\n"
          ],
          "name": "stdout"
        },
        {
          "output_type": "stream",
          "text": [
            " 68%|██████▊   | 680/1000 [6:27:12<3:07:19, 35.12s/it]"
          ],
          "name": "stderr"
        },
        {
          "output_type": "stream",
          "text": [
            "Cost at iteration 680 = 0.12826024366319924\n"
          ],
          "name": "stdout"
        },
        {
          "output_type": "stream",
          "text": [
            " 68%|██████▊   | 685/1000 [6:30:02<2:59:13, 34.14s/it]"
          ],
          "name": "stderr"
        },
        {
          "output_type": "stream",
          "text": [
            "Cost at iteration 685 = 0.12792263104993915\n"
          ],
          "name": "stdout"
        },
        {
          "output_type": "stream",
          "text": [
            " 69%|██████▉   | 690/1000 [6:32:52<2:56:23, 34.14s/it]"
          ],
          "name": "stderr"
        },
        {
          "output_type": "stream",
          "text": [
            "Cost at iteration 690 = 0.12758606010079343\n"
          ],
          "name": "stdout"
        },
        {
          "output_type": "stream",
          "text": [
            " 70%|██████▉   | 695/1000 [6:35:42<2:52:56, 34.02s/it]"
          ],
          "name": "stderr"
        },
        {
          "output_type": "stream",
          "text": [
            "Cost at iteration 695 = 0.12725066530528742\n"
          ],
          "name": "stdout"
        },
        {
          "output_type": "stream",
          "text": [
            " 70%|███████   | 700/1000 [6:38:36<2:52:42, 34.54s/it]"
          ],
          "name": "stderr"
        },
        {
          "output_type": "stream",
          "text": [
            "Cost at iteration 700 = 0.1269163716976973\n"
          ],
          "name": "stdout"
        },
        {
          "output_type": "stream",
          "text": [
            " 70%|███████   | 705/1000 [6:41:26<2:47:27, 34.06s/it]"
          ],
          "name": "stderr"
        },
        {
          "output_type": "stream",
          "text": [
            "Cost at iteration 705 = 0.12658333704049907\n"
          ],
          "name": "stdout"
        },
        {
          "output_type": "stream",
          "text": [
            " 71%|███████   | 710/1000 [6:44:17<2:44:46, 34.09s/it]"
          ],
          "name": "stderr"
        },
        {
          "output_type": "stream",
          "text": [
            "Cost at iteration 710 = 0.12625149345076428\n"
          ],
          "name": "stdout"
        },
        {
          "output_type": "stream",
          "text": [
            " 72%|███████▏  | 715/1000 [6:47:07<2:41:30, 34.00s/it]"
          ],
          "name": "stderr"
        },
        {
          "output_type": "stream",
          "text": [
            "Cost at iteration 715 = 0.12592069583850599\n"
          ],
          "name": "stdout"
        },
        {
          "output_type": "stream",
          "text": [
            " 72%|███████▏  | 720/1000 [6:50:02<2:41:22, 34.58s/it]"
          ],
          "name": "stderr"
        },
        {
          "output_type": "stream",
          "text": [
            "Cost at iteration 720 = 0.12559103039390815\n"
          ],
          "name": "stdout"
        },
        {
          "output_type": "stream",
          "text": [
            " 72%|███████▎  | 725/1000 [6:52:53<2:36:45, 34.20s/it]"
          ],
          "name": "stderr"
        },
        {
          "output_type": "stream",
          "text": [
            "Cost at iteration 725 = 0.12526249346479043\n"
          ],
          "name": "stdout"
        },
        {
          "output_type": "stream",
          "text": [
            " 73%|███████▎  | 730/1000 [6:55:44<2:33:35, 34.13s/it]"
          ],
          "name": "stderr"
        },
        {
          "output_type": "stream",
          "text": [
            "Cost at iteration 730 = 0.12493493629233068\n"
          ],
          "name": "stdout"
        },
        {
          "output_type": "stream",
          "text": [
            " 74%|███████▎  | 735/1000 [6:58:37<2:32:36, 34.55s/it]"
          ],
          "name": "stderr"
        },
        {
          "output_type": "stream",
          "text": [
            "Cost at iteration 735 = 0.12460843679372641\n"
          ],
          "name": "stdout"
        },
        {
          "output_type": "stream",
          "text": [
            " 74%|███████▍  | 740/1000 [7:01:28<2:27:52, 34.13s/it]"
          ],
          "name": "stderr"
        },
        {
          "output_type": "stream",
          "text": [
            "Cost at iteration 740 = 0.12428281802750218\n"
          ],
          "name": "stdout"
        },
        {
          "output_type": "stream",
          "text": [
            " 74%|███████▍  | 745/1000 [7:04:18<2:25:07, 34.15s/it]"
          ],
          "name": "stderr"
        },
        {
          "output_type": "stream",
          "text": [
            "Cost at iteration 745 = 0.12395831445631333\n"
          ],
          "name": "stdout"
        },
        {
          "output_type": "stream",
          "text": [
            " 75%|███████▌  | 750/1000 [7:07:09<2:22:52, 34.29s/it]"
          ],
          "name": "stderr"
        },
        {
          "output_type": "stream",
          "text": [
            "Cost at iteration 750 = 0.1236349177161092\n"
          ],
          "name": "stdout"
        },
        {
          "output_type": "stream",
          "text": [
            " 76%|███████▌  | 755/1000 [7:10:04<2:20:47, 34.48s/it]"
          ],
          "name": "stderr"
        },
        {
          "output_type": "stream",
          "text": [
            "Cost at iteration 755 = 0.12331271546180667\n"
          ],
          "name": "stdout"
        },
        {
          "output_type": "stream",
          "text": [
            " 76%|███████▌  | 760/1000 [7:12:56<2:17:42, 34.43s/it]"
          ],
          "name": "stderr"
        },
        {
          "output_type": "stream",
          "text": [
            "Cost at iteration 760 = 0.12299150178793482\n"
          ],
          "name": "stdout"
        },
        {
          "output_type": "stream",
          "text": [
            " 76%|███████▋  | 765/1000 [7:15:48<2:14:25, 34.32s/it]"
          ],
          "name": "stderr"
        },
        {
          "output_type": "stream",
          "text": [
            "Cost at iteration 765 = 0.122671159643215\n"
          ],
          "name": "stdout"
        },
        {
          "output_type": "stream",
          "text": [
            " 77%|███████▋  | 770/1000 [7:18:44<2:14:38, 35.12s/it]"
          ],
          "name": "stderr"
        },
        {
          "output_type": "stream",
          "text": [
            "Cost at iteration 770 = 0.1223517552498667\n"
          ],
          "name": "stdout"
        },
        {
          "output_type": "stream",
          "text": [
            " 78%|███████▊  | 775/1000 [7:21:36<2:09:39, 34.58s/it]"
          ],
          "name": "stderr"
        },
        {
          "output_type": "stream",
          "text": [
            "Cost at iteration 775 = 0.1220333213978347\n"
          ],
          "name": "stdout"
        },
        {
          "output_type": "stream",
          "text": [
            " 78%|███████▊  | 780/1000 [7:24:28<2:06:14, 34.43s/it]"
          ],
          "name": "stderr"
        },
        {
          "output_type": "stream",
          "text": [
            "Cost at iteration 780 = 0.12171620222477358\n"
          ],
          "name": "stdout"
        },
        {
          "output_type": "stream",
          "text": [
            " 78%|███████▊  | 785/1000 [7:27:20<2:02:41, 34.24s/it]"
          ],
          "name": "stderr"
        },
        {
          "output_type": "stream",
          "text": [
            "Cost at iteration 785 = 0.12140013929557163\n"
          ],
          "name": "stdout"
        },
        {
          "output_type": "stream",
          "text": [
            " 79%|███████▉  | 790/1000 [7:30:15<2:00:52, 34.54s/it]"
          ],
          "name": "stderr"
        },
        {
          "output_type": "stream",
          "text": [
            "Cost at iteration 790 = 0.1210853488500177\n"
          ],
          "name": "stdout"
        },
        {
          "output_type": "stream",
          "text": [
            " 80%|███████▉  | 795/1000 [7:33:06<1:56:41, 34.15s/it]"
          ],
          "name": "stderr"
        },
        {
          "output_type": "stream",
          "text": [
            "Cost at iteration 795 = 0.12077156889546188\n"
          ],
          "name": "stdout"
        },
        {
          "output_type": "stream",
          "text": [
            " 80%|████████  | 800/1000 [7:35:57<1:54:14, 34.27s/it]"
          ],
          "name": "stderr"
        },
        {
          "output_type": "stream",
          "text": [
            "Cost at iteration 800 = 0.12045865261534418\n"
          ],
          "name": "stdout"
        },
        {
          "output_type": "stream",
          "text": [
            " 80%|████████  | 805/1000 [7:38:51<1:53:11, 34.83s/it]"
          ],
          "name": "stderr"
        },
        {
          "output_type": "stream",
          "text": [
            "Cost at iteration 805 = 0.1201467302836869\n"
          ],
          "name": "stdout"
        },
        {
          "output_type": "stream",
          "text": [
            " 81%|████████  | 810/1000 [7:41:42<1:49:08, 34.47s/it]"
          ],
          "name": "stderr"
        },
        {
          "output_type": "stream",
          "text": [
            "Cost at iteration 810 = 0.1198355968054342\n"
          ],
          "name": "stdout"
        },
        {
          "output_type": "stream",
          "text": [
            " 82%|████████▏ | 815/1000 [7:44:33<1:45:28, 34.21s/it]"
          ],
          "name": "stderr"
        },
        {
          "output_type": "stream",
          "text": [
            "Cost at iteration 815 = 0.11952539127886694\n"
          ],
          "name": "stdout"
        },
        {
          "output_type": "stream",
          "text": [
            " 82%|████████▏ | 820/1000 [7:47:25<1:43:02, 34.35s/it]"
          ],
          "name": "stderr"
        },
        {
          "output_type": "stream",
          "text": [
            "Cost at iteration 820 = 0.11921594028300844\n"
          ],
          "name": "stdout"
        },
        {
          "output_type": "stream",
          "text": [
            " 82%|████████▎ | 825/1000 [7:50:19<1:40:31, 34.47s/it]"
          ],
          "name": "stderr"
        },
        {
          "output_type": "stream",
          "text": [
            "Cost at iteration 825 = 0.11890739799893965\n"
          ],
          "name": "stdout"
        },
        {
          "output_type": "stream",
          "text": [
            " 83%|████████▎ | 830/1000 [7:53:11<1:37:09, 34.29s/it]"
          ],
          "name": "stderr"
        },
        {
          "output_type": "stream",
          "text": [
            "Cost at iteration 830 = 0.11859974347862483\n"
          ],
          "name": "stdout"
        },
        {
          "output_type": "stream",
          "text": [
            " 84%|████████▎ | 835/1000 [7:56:02<1:33:54, 34.15s/it]"
          ],
          "name": "stderr"
        },
        {
          "output_type": "stream",
          "text": [
            "Cost at iteration 835 = 0.11829299676433025\n"
          ],
          "name": "stdout"
        },
        {
          "output_type": "stream",
          "text": [
            " 84%|████████▍ | 840/1000 [7:58:56<1:33:38, 35.12s/it]"
          ],
          "name": "stderr"
        },
        {
          "output_type": "stream",
          "text": [
            "Cost at iteration 840 = 0.11798734306939432\n"
          ],
          "name": "stdout"
        },
        {
          "output_type": "stream",
          "text": [
            " 84%|████████▍ | 845/1000 [8:01:47<1:28:48, 34.38s/it]"
          ],
          "name": "stderr"
        },
        {
          "output_type": "stream",
          "text": [
            "Cost at iteration 845 = 0.11768277628930866\n"
          ],
          "name": "stdout"
        },
        {
          "output_type": "stream",
          "text": [
            " 85%|████████▌ | 850/1000 [8:04:38<1:25:27, 34.19s/it]"
          ],
          "name": "stderr"
        },
        {
          "output_type": "stream",
          "text": [
            "Cost at iteration 850 = 0.11737924047601891\n"
          ],
          "name": "stdout"
        },
        {
          "output_type": "stream",
          "text": [
            " 86%|████████▌ | 855/1000 [8:07:30<1:23:13, 34.43s/it]"
          ],
          "name": "stderr"
        },
        {
          "output_type": "stream",
          "text": [
            "Cost at iteration 855 = 0.11707660457263055\n"
          ],
          "name": "stdout"
        },
        {
          "output_type": "stream",
          "text": [
            " 86%|████████▌ | 860/1000 [8:10:24<1:20:32, 34.52s/it]"
          ],
          "name": "stderr"
        },
        {
          "output_type": "stream",
          "text": [
            "Cost at iteration 860 = 0.11677508353050838\n"
          ],
          "name": "stdout"
        },
        {
          "output_type": "stream",
          "text": [
            " 86%|████████▋ | 865/1000 [8:13:14<1:17:02, 34.24s/it]"
          ],
          "name": "stderr"
        },
        {
          "output_type": "stream",
          "text": [
            "Cost at iteration 865 = 0.11647457147315797\n"
          ],
          "name": "stdout"
        },
        {
          "output_type": "stream",
          "text": [
            " 87%|████████▋ | 870/1000 [8:16:05<1:14:02, 34.17s/it]"
          ],
          "name": "stderr"
        },
        {
          "output_type": "stream",
          "text": [
            "Cost at iteration 870 = 0.1161747949638945\n"
          ],
          "name": "stdout"
        },
        {
          "output_type": "stream",
          "text": [
            " 88%|████████▊ | 875/1000 [8:19:00<1:13:27, 35.26s/it]"
          ],
          "name": "stderr"
        },
        {
          "output_type": "stream",
          "text": [
            "Cost at iteration 875 = 0.11587598890472468\n"
          ],
          "name": "stdout"
        },
        {
          "output_type": "stream",
          "text": [
            " 88%|████████▊ | 880/1000 [8:21:50<1:08:39, 34.33s/it]"
          ],
          "name": "stderr"
        },
        {
          "output_type": "stream",
          "text": [
            "Cost at iteration 880 = 0.11557827296631276\n"
          ],
          "name": "stdout"
        },
        {
          "output_type": "stream",
          "text": [
            " 88%|████████▊ | 885/1000 [8:24:42<1:05:35, 34.22s/it]"
          ],
          "name": "stderr"
        },
        {
          "output_type": "stream",
          "text": [
            "Cost at iteration 885 = 0.11528145760763889\n"
          ],
          "name": "stdout"
        },
        {
          "output_type": "stream",
          "text": [
            " 89%|████████▉ | 890/1000 [8:27:32<1:02:26, 34.06s/it]"
          ],
          "name": "stderr"
        },
        {
          "output_type": "stream",
          "text": [
            "Cost at iteration 890 = 0.1149856321551655\n"
          ],
          "name": "stdout"
        },
        {
          "output_type": "stream",
          "text": [
            " 90%|████████▉ | 895/1000 [8:30:26<1:00:39, 34.66s/it]"
          ],
          "name": "stderr"
        },
        {
          "output_type": "stream",
          "text": [
            "Cost at iteration 895 = 0.11469065820607922\n"
          ],
          "name": "stdout"
        },
        {
          "output_type": "stream",
          "text": [
            " 90%|█████████ | 900/1000 [8:33:17<56:55, 34.15s/it]"
          ],
          "name": "stderr"
        },
        {
          "output_type": "stream",
          "text": [
            "Cost at iteration 900 = 0.1143965397698991\n"
          ],
          "name": "stdout"
        },
        {
          "output_type": "stream",
          "text": [
            " 90%|█████████ | 905/1000 [8:36:07<53:55, 34.06s/it]"
          ],
          "name": "stderr"
        },
        {
          "output_type": "stream",
          "text": [
            "Cost at iteration 905 = 0.11410333807782318\n"
          ],
          "name": "stdout"
        },
        {
          "output_type": "stream",
          "text": [
            " 91%|█████████ | 910/1000 [8:38:58<51:19, 34.21s/it]"
          ],
          "name": "stderr"
        },
        {
          "output_type": "stream",
          "text": [
            "Cost at iteration 910 = 0.1138107881024212\n"
          ],
          "name": "stdout"
        },
        {
          "output_type": "stream",
          "text": [
            " 92%|█████████▏| 915/1000 [8:41:51<48:21, 34.13s/it]"
          ],
          "name": "stderr"
        },
        {
          "output_type": "stream",
          "text": [
            "Cost at iteration 915 = 0.11351925402386975\n"
          ],
          "name": "stdout"
        },
        {
          "output_type": "stream",
          "text": [
            " 92%|█████████▏| 920/1000 [8:44:41<45:28, 34.10s/it]"
          ],
          "name": "stderr"
        },
        {
          "output_type": "stream",
          "text": [
            "Cost at iteration 920 = 0.11322877097265673\n"
          ],
          "name": "stdout"
        },
        {
          "output_type": "stream",
          "text": [
            " 92%|█████████▎| 925/1000 [8:47:31<42:24, 33.93s/it]"
          ],
          "name": "stderr"
        },
        {
          "output_type": "stream",
          "text": [
            "Cost at iteration 925 = 0.11293919979852346\n"
          ],
          "name": "stdout"
        },
        {
          "output_type": "stream",
          "text": [
            " 93%|█████████▎| 930/1000 [8:50:25<40:20, 34.57s/it]"
          ],
          "name": "stderr"
        },
        {
          "output_type": "stream",
          "text": [
            "Cost at iteration 930 = 0.11265043329478276\n"
          ],
          "name": "stdout"
        },
        {
          "output_type": "stream",
          "text": [
            " 94%|█████████▎| 935/1000 [8:53:15<36:56, 34.10s/it]"
          ],
          "name": "stderr"
        },
        {
          "output_type": "stream",
          "text": [
            "Cost at iteration 935 = 0.11236238428050478\n"
          ],
          "name": "stdout"
        },
        {
          "output_type": "stream",
          "text": [
            " 94%|█████████▍| 940/1000 [8:56:05<34:08, 34.15s/it]"
          ],
          "name": "stderr"
        },
        {
          "output_type": "stream",
          "text": [
            "Cost at iteration 940 = 0.11207527295951049\n"
          ],
          "name": "stdout"
        },
        {
          "output_type": "stream",
          "text": [
            " 94%|█████████▍| 945/1000 [8:58:55<31:08, 33.98s/it]"
          ],
          "name": "stderr"
        },
        {
          "output_type": "stream",
          "text": [
            "Cost at iteration 945 = 0.11178887240546662\n"
          ],
          "name": "stdout"
        },
        {
          "output_type": "stream",
          "text": [
            " 95%|█████████▌| 950/1000 [9:01:49<28:33, 34.26s/it]"
          ],
          "name": "stderr"
        },
        {
          "output_type": "stream",
          "text": [
            "Cost at iteration 950 = 0.11150334553910081\n"
          ],
          "name": "stdout"
        },
        {
          "output_type": "stream",
          "text": [
            " 96%|█████████▌| 955/1000 [9:04:39<25:32, 34.07s/it]"
          ],
          "name": "stderr"
        },
        {
          "output_type": "stream",
          "text": [
            "Cost at iteration 955 = 0.11121853242497576\n"
          ],
          "name": "stdout"
        },
        {
          "output_type": "stream",
          "text": [
            " 96%|█████████▌| 960/1000 [9:07:30<22:42, 34.05s/it]"
          ],
          "name": "stderr"
        },
        {
          "output_type": "stream",
          "text": [
            "Cost at iteration 960 = 0.1109344422767997\n"
          ],
          "name": "stdout"
        },
        {
          "output_type": "stream",
          "text": [
            " 96%|█████████▋| 965/1000 [9:10:23<20:15, 34.72s/it]"
          ],
          "name": "stderr"
        },
        {
          "output_type": "stream",
          "text": [
            "Cost at iteration 965 = 0.11065100624664158\n"
          ],
          "name": "stdout"
        },
        {
          "output_type": "stream",
          "text": [
            " 97%|█████████▋| 970/1000 [9:13:14<17:07, 34.25s/it]"
          ],
          "name": "stderr"
        },
        {
          "output_type": "stream",
          "text": [
            "Cost at iteration 970 = 0.110368572109956\n"
          ],
          "name": "stdout"
        },
        {
          "output_type": "stream",
          "text": [
            " 98%|█████████▊| 975/1000 [9:16:04<14:11, 34.05s/it]"
          ],
          "name": "stderr"
        },
        {
          "output_type": "stream",
          "text": [
            "Cost at iteration 975 = 0.11008690726208246\n"
          ],
          "name": "stdout"
        },
        {
          "output_type": "stream",
          "text": [
            " 98%|█████████▊| 980/1000 [9:18:55<11:23, 34.18s/it]"
          ],
          "name": "stderr"
        },
        {
          "output_type": "stream",
          "text": [
            "Cost at iteration 980 = 0.10980608617694596\n"
          ],
          "name": "stdout"
        },
        {
          "output_type": "stream",
          "text": [
            " 98%|█████████▊| 985/1000 [9:21:49<08:38, 34.55s/it]"
          ],
          "name": "stderr"
        },
        {
          "output_type": "stream",
          "text": [
            "Cost at iteration 985 = 0.10952607671481464\n"
          ],
          "name": "stdout"
        },
        {
          "output_type": "stream",
          "text": [
            " 99%|█████████▉| 990/1000 [9:24:40<05:41, 34.13s/it]"
          ],
          "name": "stderr"
        },
        {
          "output_type": "stream",
          "text": [
            "Cost at iteration 990 = 0.10924703538087349\n"
          ],
          "name": "stdout"
        },
        {
          "output_type": "stream",
          "text": [
            "100%|█████████▉| 995/1000 [9:27:30<02:50, 34.11s/it]"
          ],
          "name": "stderr"
        },
        {
          "output_type": "stream",
          "text": [
            "Cost at iteration 995 = 0.10896878752048342\n"
          ],
          "name": "stdout"
        },
        {
          "output_type": "stream",
          "text": [
            "100%|██████████| 1000/1000 [9:30:25<00:00, 34.23s/it]\n"
          ],
          "name": "stderr"
        }
      ]
    },
    {
      "cell_type": "code",
      "metadata": {
        "id": "TnTXyeU7Nbrm",
        "colab_type": "code",
        "colab": {
          "base_uri": "https://localhost:8080/",
          "height": 1000
        },
        "outputId": "5a8e8d97-14cd-4037-8a97-e393fe588667"
      },
      "source": [
        " params"
      ],
      "execution_count": null,
      "outputs": [
        {
          "output_type": "execute_result",
          "data": {
            "text/plain": [
              "{'W1': array([[-4.78033428e-05,  7.65396409e-04,  1.22445836e-02, ...,\n",
              "          1.75577268e-02,  2.33512010e-03, -4.10735975e-03],\n",
              "        [ 5.19937869e-03, -1.77309342e-02, -1.39296903e-02, ...,\n",
              "         -4.96210588e-03,  6.39777035e-04, -1.59029335e-02],\n",
              "        [-6.98164303e-03, -6.69264721e-03,  7.62955594e-03, ...,\n",
              "         -1.17092553e-02, -2.36001078e-02,  6.37170048e-03],\n",
              "        ...,\n",
              "        [ 4.60102911e-03, -1.19884865e-02,  1.20841917e-03, ...,\n",
              "         -1.64973824e-03, -3.20075812e-03, -1.49853592e-02],\n",
              "        [-1.34262077e-02,  1.61367275e-03,  8.47106640e-03, ...,\n",
              "          4.09493553e-03,  2.13859507e-02,  1.51418694e-02],\n",
              "        [ 2.90331970e-03, -1.36101609e-02, -2.18674431e-02, ...,\n",
              "         -1.53202390e-02, -2.69308206e-03, -1.13398838e-03]]),\n",
              " 'W2': array([[ 0.06345484,  0.02470317,  0.01672148, ...,  0.00957294,\n",
              "          0.02548475,  0.01547999],\n",
              "        [ 0.02291387, -0.01022143, -0.00461837, ..., -0.00115049,\n",
              "          0.00112585,  0.02704834],\n",
              "        [-0.02898965, -0.01320637,  0.00815149, ..., -0.01809941,\n",
              "          0.00549917, -0.02825225],\n",
              "        ...,\n",
              "        [ 0.02714898,  0.00483201, -0.01089957, ..., -0.00541583,\n",
              "         -0.03870357,  0.04343159],\n",
              "        [ 0.0105328 ,  0.01490945, -0.02221018, ...,  0.01109708,\n",
              "         -0.01511168,  0.05584599],\n",
              "        [-0.04013337,  0.00600156,  0.02564167, ..., -0.01351435,\n",
              "          0.02575985, -0.02909946]]),\n",
              " 'W3': array([[-0.38212056, -0.10349015, -0.06912967, ..., -0.00991944,\n",
              "         -0.05564749, -0.04884067],\n",
              "        [ 0.35460424,  0.11382564, -0.05842133, ..., -0.05295397,\n",
              "         -0.20142765, -0.15834738],\n",
              "        [-0.21571108, -0.12355624,  0.08548831, ..., -0.09102247,\n",
              "         -0.066202  ,  0.23076089],\n",
              "        ...,\n",
              "        [-0.0660945 , -0.01914282, -0.01236791, ..., -0.10314723,\n",
              "          0.00645538, -0.06712316],\n",
              "        [ 0.1884869 ,  0.04188525,  0.0016815 , ...,  0.03286346,\n",
              "         -0.38403911, -0.03467488],\n",
              "        [ 0.03413668, -0.04191634, -0.12830288, ..., -0.0435645 ,\n",
              "          0.04847041, -0.03381106]]),\n",
              " 'b1': array([[ 0.02984523],\n",
              "        [ 0.01960208],\n",
              "        [ 0.05431934],\n",
              "        [ 0.02064364],\n",
              "        [-0.01165291],\n",
              "        [ 0.04189398],\n",
              "        [ 0.02331271],\n",
              "        [ 0.00407039],\n",
              "        [ 0.03852199],\n",
              "        [ 0.00038483],\n",
              "        [ 0.04712823],\n",
              "        [ 0.00681611],\n",
              "        [ 0.02664589],\n",
              "        [ 0.01038754],\n",
              "        [ 0.03133568],\n",
              "        [ 0.02099364],\n",
              "        [-0.06516463],\n",
              "        [ 0.00666875],\n",
              "        [ 0.0341811 ],\n",
              "        [-0.00542351],\n",
              "        [ 0.01781658],\n",
              "        [ 0.02784976],\n",
              "        [ 0.02896681],\n",
              "        [ 0.09063441],\n",
              "        [ 0.0629641 ],\n",
              "        [ 0.00242655],\n",
              "        [-0.00029575],\n",
              "        [-0.00589231],\n",
              "        [ 0.02023172],\n",
              "        [ 0.03332703],\n",
              "        [ 0.02071476],\n",
              "        [ 0.05375601],\n",
              "        [-0.03986403],\n",
              "        [ 0.02956306],\n",
              "        [-0.01849923],\n",
              "        [ 0.00892884],\n",
              "        [-0.01027073],\n",
              "        [ 0.02742694],\n",
              "        [-0.02111711],\n",
              "        [-0.01214112],\n",
              "        [ 0.02463983],\n",
              "        [ 0.00505209],\n",
              "        [-0.02969127],\n",
              "        [ 0.00432105],\n",
              "        [-0.01779241],\n",
              "        [ 0.00734866],\n",
              "        [ 0.03988397],\n",
              "        [ 0.01219389],\n",
              "        [ 0.08292944],\n",
              "        [ 0.0374125 ],\n",
              "        [-0.00390989],\n",
              "        [-0.00642886],\n",
              "        [ 0.05162825],\n",
              "        [ 0.00696627],\n",
              "        [ 0.07865886],\n",
              "        [ 0.02572075],\n",
              "        [ 0.03195923],\n",
              "        [-0.00998446],\n",
              "        [ 0.06313271],\n",
              "        [ 0.05655382],\n",
              "        [ 0.041442  ],\n",
              "        [ 0.03034275],\n",
              "        [ 0.09328271],\n",
              "        [-0.00485532],\n",
              "        [ 0.03799522],\n",
              "        [ 0.03201747],\n",
              "        [ 0.04501512],\n",
              "        [-0.00299868],\n",
              "        [-0.06711145],\n",
              "        [ 0.00255777],\n",
              "        [ 0.00708732],\n",
              "        [ 0.00868019],\n",
              "        [ 0.04140267],\n",
              "        [ 0.05984371],\n",
              "        [ 0.04964956],\n",
              "        [ 0.01673796],\n",
              "        [ 0.03311047],\n",
              "        [-0.00695599],\n",
              "        [ 0.00437545],\n",
              "        [-0.02888848],\n",
              "        [ 0.10155606],\n",
              "        [ 0.04940293],\n",
              "        [ 0.010828  ],\n",
              "        [ 0.06513998],\n",
              "        [ 0.03531715],\n",
              "        [ 0.04930543],\n",
              "        [-0.02489943],\n",
              "        [ 0.00385273],\n",
              "        [-0.00114995],\n",
              "        [ 0.0225087 ],\n",
              "        [ 0.06062871],\n",
              "        [ 0.01965811],\n",
              "        [ 0.01451225],\n",
              "        [ 0.03890623],\n",
              "        [-0.03208285],\n",
              "        [ 0.04506773],\n",
              "        [ 0.04973868],\n",
              "        [ 0.0815783 ],\n",
              "        [-0.00897105],\n",
              "        [ 0.00123017],\n",
              "        [ 0.00357572],\n",
              "        [ 0.03496781],\n",
              "        [ 0.08587023],\n",
              "        [-0.00859847],\n",
              "        [-0.00155701],\n",
              "        [ 0.00654558],\n",
              "        [ 0.04106869],\n",
              "        [ 0.00268139],\n",
              "        [ 0.05359941],\n",
              "        [-0.00822922],\n",
              "        [ 0.05553999],\n",
              "        [-0.02483755],\n",
              "        [ 0.00785034],\n",
              "        [ 0.10225395],\n",
              "        [ 0.02739294],\n",
              "        [ 0.02942703],\n",
              "        [ 0.00163696],\n",
              "        [-0.02200675],\n",
              "        [ 0.02576797],\n",
              "        [ 0.02086449],\n",
              "        [ 0.0300333 ],\n",
              "        [-0.00332719],\n",
              "        [ 0.0070729 ],\n",
              "        [-0.00254475],\n",
              "        [ 0.01403266],\n",
              "        [ 0.06996899],\n",
              "        [ 0.05384113],\n",
              "        [-0.01567292],\n",
              "        [ 0.05846008],\n",
              "        [-0.00670077],\n",
              "        [-0.02722249],\n",
              "        [ 0.03002234],\n",
              "        [ 0.05131892],\n",
              "        [ 0.01263486],\n",
              "        [ 0.01586321],\n",
              "        [-0.07234729],\n",
              "        [ 0.01355505],\n",
              "        [ 0.01552251],\n",
              "        [ 0.03853368],\n",
              "        [ 0.00761105],\n",
              "        [ 0.01686394],\n",
              "        [ 0.01046517],\n",
              "        [ 0.04141802],\n",
              "        [ 0.02625305],\n",
              "        [ 0.0235061 ],\n",
              "        [ 0.05082885],\n",
              "        [ 0.03493658],\n",
              "        [-0.00150675],\n",
              "        [ 0.05400936],\n",
              "        [ 0.00943162],\n",
              "        [ 0.00562057],\n",
              "        [ 0.02023203],\n",
              "        [ 0.00065824],\n",
              "        [ 0.02850323],\n",
              "        [ 0.03718501],\n",
              "        [ 0.03516341],\n",
              "        [-0.00203194],\n",
              "        [ 0.02006626],\n",
              "        [-0.02321805],\n",
              "        [-0.0005995 ],\n",
              "        [ 0.00757582],\n",
              "        [ 0.04766459],\n",
              "        [ 0.02758337],\n",
              "        [ 0.00185161],\n",
              "        [-0.02528291],\n",
              "        [-0.01180016],\n",
              "        [-0.01223936],\n",
              "        [-0.01997294],\n",
              "        [ 0.00380125],\n",
              "        [ 0.07142401],\n",
              "        [ 0.00344813],\n",
              "        [ 0.08233709],\n",
              "        [ 0.01843491],\n",
              "        [ 0.01978016],\n",
              "        [ 0.00551841],\n",
              "        [ 0.0272983 ],\n",
              "        [ 0.01852479],\n",
              "        [ 0.05422275],\n",
              "        [ 0.02763971],\n",
              "        [ 0.00650259],\n",
              "        [-0.03283608],\n",
              "        [ 0.00484245],\n",
              "        [ 0.0249559 ],\n",
              "        [ 0.01228983],\n",
              "        [ 0.05165674],\n",
              "        [ 0.01383706],\n",
              "        [ 0.00082392],\n",
              "        [ 0.00037161],\n",
              "        [ 0.06932654],\n",
              "        [ 0.02160473],\n",
              "        [ 0.03320097],\n",
              "        [ 0.04388801],\n",
              "        [ 0.0150303 ],\n",
              "        [ 0.00174589],\n",
              "        [-0.01243491],\n",
              "        [-0.03519202],\n",
              "        [ 0.00341517],\n",
              "        [ 0.04730931],\n",
              "        [ 0.01208825],\n",
              "        [ 0.00168021],\n",
              "        [ 0.00704457],\n",
              "        [ 0.00379187],\n",
              "        [-0.01918509],\n",
              "        [-0.00084106],\n",
              "        [ 0.01015597],\n",
              "        [ 0.05551181],\n",
              "        [ 0.00867913],\n",
              "        [ 0.00939432],\n",
              "        [ 0.05123851],\n",
              "        [-0.00129398],\n",
              "        [-0.01629893],\n",
              "        [ 0.07771273],\n",
              "        [ 0.00737344],\n",
              "        [ 0.06410596],\n",
              "        [ 0.00946376],\n",
              "        [-0.01556127],\n",
              "        [ 0.00242888],\n",
              "        [ 0.03063314],\n",
              "        [-0.00870846],\n",
              "        [-0.05127104],\n",
              "        [ 0.00445091],\n",
              "        [-0.00165511],\n",
              "        [ 0.02253066],\n",
              "        [ 0.01507555],\n",
              "        [ 0.03499096],\n",
              "        [-0.00087048],\n",
              "        [ 0.04082747],\n",
              "        [-0.00026683],\n",
              "        [-0.01018787],\n",
              "        [-0.01747156],\n",
              "        [ 0.00811044],\n",
              "        [ 0.01155737],\n",
              "        [ 0.00552585],\n",
              "        [ 0.08941609],\n",
              "        [ 0.00321124],\n",
              "        [-0.00247907],\n",
              "        [-0.00733118],\n",
              "        [-0.00500005],\n",
              "        [-0.00866203],\n",
              "        [-0.00688967],\n",
              "        [ 0.0659073 ],\n",
              "        [ 0.05209174],\n",
              "        [ 0.00673826],\n",
              "        [ 0.00358877],\n",
              "        [ 0.0033399 ],\n",
              "        [ 0.01851577],\n",
              "        [ 0.00128893],\n",
              "        [ 0.02224095],\n",
              "        [-0.00235153],\n",
              "        [ 0.00606677],\n",
              "        [ 0.00064876],\n",
              "        [-0.00955276],\n",
              "        [ 0.03951762],\n",
              "        [ 0.02699144],\n",
              "        [ 0.04465266],\n",
              "        [ 0.03237261],\n",
              "        [-0.00201289],\n",
              "        [ 0.13726058],\n",
              "        [-0.01697741],\n",
              "        [ 0.00688792],\n",
              "        [-0.02571215],\n",
              "        [ 0.00657358],\n",
              "        [ 0.02350695],\n",
              "        [-0.00247527],\n",
              "        [ 0.03255118],\n",
              "        [ 0.03408061],\n",
              "        [-0.00951615],\n",
              "        [ 0.01434687],\n",
              "        [-0.01531732],\n",
              "        [-0.02096128],\n",
              "        [ 0.01645195],\n",
              "        [-0.00284146],\n",
              "        [ 0.04884012],\n",
              "        [ 0.02375083],\n",
              "        [-0.01643026],\n",
              "        [-0.00748988],\n",
              "        [ 0.05287921],\n",
              "        [-0.01276728],\n",
              "        [-0.0139708 ],\n",
              "        [ 0.10187395],\n",
              "        [ 0.01478371],\n",
              "        [ 0.01267012],\n",
              "        [-0.02615367],\n",
              "        [ 0.05195901],\n",
              "        [-0.02271678],\n",
              "        [ 0.01070185],\n",
              "        [-0.00156833],\n",
              "        [ 0.00651305],\n",
              "        [ 0.03221936],\n",
              "        [-0.01205086],\n",
              "        [ 0.00608987],\n",
              "        [ 0.00059597],\n",
              "        [-0.00040365],\n",
              "        [ 0.02331406],\n",
              "        [-0.01346854],\n",
              "        [ 0.03211696],\n",
              "        [ 0.01414343],\n",
              "        [-0.01904556],\n",
              "        [ 0.02366673],\n",
              "        [ 0.01822055],\n",
              "        [ 0.01913511],\n",
              "        [ 0.01480627],\n",
              "        [-0.00451353],\n",
              "        [-0.00383612],\n",
              "        [-0.01296143],\n",
              "        [ 0.00165044],\n",
              "        [-0.05071905],\n",
              "        [ 0.03236094],\n",
              "        [ 0.00592205],\n",
              "        [ 0.00700985],\n",
              "        [ 0.10294373],\n",
              "        [-0.00553273],\n",
              "        [ 0.02282527],\n",
              "        [-0.00870516],\n",
              "        [-0.00105169],\n",
              "        [ 0.06263122],\n",
              "        [ 0.04044743],\n",
              "        [-0.00973703],\n",
              "        [ 0.00297601],\n",
              "        [ 0.03485047],\n",
              "        [-0.02236863],\n",
              "        [ 0.01947108],\n",
              "        [ 0.04679358],\n",
              "        [ 0.0002035 ],\n",
              "        [ 0.04874339],\n",
              "        [ 0.07627182],\n",
              "        [ 0.03812645],\n",
              "        [ 0.02081873],\n",
              "        [-0.00538423],\n",
              "        [-0.00222259],\n",
              "        [ 0.05332063],\n",
              "        [ 0.00538314],\n",
              "        [ 0.01915959],\n",
              "        [-0.01842003],\n",
              "        [-0.01043315],\n",
              "        [-0.01203994],\n",
              "        [ 0.01475978],\n",
              "        [-0.03014947],\n",
              "        [ 0.00926178],\n",
              "        [ 0.05630182],\n",
              "        [ 0.03900674],\n",
              "        [-0.11714864],\n",
              "        [ 0.01837296],\n",
              "        [-0.00998746],\n",
              "        [ 0.0580741 ],\n",
              "        [ 0.00205257],\n",
              "        [ 0.0099449 ],\n",
              "        [ 0.01061827],\n",
              "        [-0.00018582],\n",
              "        [ 0.07994403],\n",
              "        [-0.0135437 ],\n",
              "        [ 0.01497237],\n",
              "        [-0.01134452],\n",
              "        [-0.03034162],\n",
              "        [ 0.01143632],\n",
              "        [-0.00100173],\n",
              "        [ 0.03518683],\n",
              "        [ 0.02139742],\n",
              "        [-0.00420394],\n",
              "        [ 0.00606532],\n",
              "        [ 0.02190446],\n",
              "        [ 0.00184846],\n",
              "        [ 0.0100486 ],\n",
              "        [ 0.00240238],\n",
              "        [ 0.02195369],\n",
              "        [ 0.02814927],\n",
              "        [ 0.10567409],\n",
              "        [ 0.01264149],\n",
              "        [ 0.02723352],\n",
              "        [ 0.02460372],\n",
              "        [ 0.06253824],\n",
              "        [ 0.05616813],\n",
              "        [ 0.06605585],\n",
              "        [ 0.03266775],\n",
              "        [ 0.01895654],\n",
              "        [ 0.02661008],\n",
              "        [ 0.02455726],\n",
              "        [ 0.02364912],\n",
              "        [ 0.04898859],\n",
              "        [-0.01519408],\n",
              "        [ 0.02266854],\n",
              "        [ 0.06666911],\n",
              "        [ 0.02385417],\n",
              "        [ 0.0145844 ],\n",
              "        [ 0.04045816],\n",
              "        [ 0.01104232],\n",
              "        [ 0.00945715],\n",
              "        [ 0.02554408],\n",
              "        [-0.02064026],\n",
              "        [ 0.04026772],\n",
              "        [ 0.07035086],\n",
              "        [ 0.01673118],\n",
              "        [-0.01200171],\n",
              "        [ 0.03709733],\n",
              "        [ 0.00194949],\n",
              "        [-0.02724235],\n",
              "        [-0.00678525],\n",
              "        [ 0.07621163],\n",
              "        [-0.00229502],\n",
              "        [ 0.04240082],\n",
              "        [-0.01886385],\n",
              "        [ 0.08661854],\n",
              "        [ 0.00294278],\n",
              "        [ 0.00775721],\n",
              "        [-0.00971758],\n",
              "        [-0.00705681],\n",
              "        [ 0.02234947],\n",
              "        [ 0.00476279],\n",
              "        [ 0.11822194],\n",
              "        [ 0.00406715],\n",
              "        [-0.00399851],\n",
              "        [ 0.03042096],\n",
              "        [ 0.05443015],\n",
              "        [-0.0015515 ],\n",
              "        [ 0.01041374],\n",
              "        [ 0.01261232],\n",
              "        [ 0.0372107 ],\n",
              "        [ 0.09191315],\n",
              "        [ 0.0125143 ],\n",
              "        [ 0.01604831],\n",
              "        [ 0.02127333],\n",
              "        [ 0.00667853],\n",
              "        [ 0.0294997 ],\n",
              "        [ 0.0525426 ],\n",
              "        [ 0.01892813],\n",
              "        [ 0.05065721],\n",
              "        [-0.00015575],\n",
              "        [-0.04359558],\n",
              "        [ 0.0673555 ],\n",
              "        [ 0.00735144],\n",
              "        [ 0.05832103],\n",
              "        [ 0.02452472],\n",
              "        [ 0.02009152],\n",
              "        [ 0.01176195],\n",
              "        [ 0.03533824],\n",
              "        [-0.00437531],\n",
              "        [-0.03093778],\n",
              "        [-0.03038438],\n",
              "        [ 0.04337297],\n",
              "        [ 0.01066037],\n",
              "        [ 0.02134213],\n",
              "        [ 0.03304258],\n",
              "        [ 0.00088139],\n",
              "        [-0.04045294],\n",
              "        [ 0.02063106],\n",
              "        [ 0.07784327],\n",
              "        [ 0.02369322],\n",
              "        [ 0.02511244],\n",
              "        [-0.06567025],\n",
              "        [-0.00786515],\n",
              "        [ 0.03508013],\n",
              "        [ 0.05266639],\n",
              "        [ 0.03695434],\n",
              "        [ 0.00621662],\n",
              "        [ 0.02816412],\n",
              "        [ 0.01253694],\n",
              "        [ 0.06168486],\n",
              "        [ 0.02473526],\n",
              "        [ 0.02295614],\n",
              "        [-0.00672008],\n",
              "        [ 0.00314847],\n",
              "        [ 0.00163936],\n",
              "        [-0.02168226],\n",
              "        [-0.00870409],\n",
              "        [-0.02538118],\n",
              "        [ 0.09197557],\n",
              "        [ 0.12033487],\n",
              "        [ 0.01717883],\n",
              "        [ 0.04884701],\n",
              "        [ 0.04033845],\n",
              "        [ 0.04183106],\n",
              "        [ 0.00312254],\n",
              "        [ 0.05698324],\n",
              "        [ 0.10831921],\n",
              "        [-0.01308019],\n",
              "        [ 0.09229172],\n",
              "        [-0.0202656 ],\n",
              "        [ 0.02340454],\n",
              "        [ 0.09239761],\n",
              "        [ 0.01200504],\n",
              "        [ 0.04539498],\n",
              "        [ 0.04871842],\n",
              "        [ 0.00400461],\n",
              "        [ 0.02891568],\n",
              "        [-0.05240705],\n",
              "        [-0.01431569],\n",
              "        [-0.04392985],\n",
              "        [-0.01356649],\n",
              "        [ 0.00673983],\n",
              "        [ 0.04682803],\n",
              "        [-0.01049359],\n",
              "        [ 0.02956602],\n",
              "        [-0.00135153],\n",
              "        [ 0.07339597],\n",
              "        [ 0.00459323],\n",
              "        [ 0.01452361],\n",
              "        [-0.00275291],\n",
              "        [-0.00524418],\n",
              "        [-0.02509829],\n",
              "        [ 0.03403304]]),\n",
              " 'b2': array([[ 7.47324722e-02],\n",
              "        [ 5.21571819e-02],\n",
              "        [-1.90500598e-02],\n",
              "        [ 7.29421160e-03],\n",
              "        [ 1.78989218e-02],\n",
              "        [-5.92664034e-03],\n",
              "        [ 2.42062868e-02],\n",
              "        [-1.42318219e-02],\n",
              "        [ 1.68779780e-02],\n",
              "        [ 2.41907130e-02],\n",
              "        [ 2.73037179e-02],\n",
              "        [-4.50191267e-03],\n",
              "        [-1.23752126e-02],\n",
              "        [-1.40138059e-02],\n",
              "        [ 3.17626717e-02],\n",
              "        [ 3.33398894e-02],\n",
              "        [ 3.21226334e-02],\n",
              "        [ 2.08366592e-02],\n",
              "        [ 6.36707084e-02],\n",
              "        [-1.17917833e-02],\n",
              "        [ 9.11236345e-02],\n",
              "        [ 6.23848993e-02],\n",
              "        [ 5.61631691e-02],\n",
              "        [ 1.10027205e-01],\n",
              "        [-5.50372967e-04],\n",
              "        [-6.35273712e-03],\n",
              "        [-1.32154838e-02],\n",
              "        [ 6.46355479e-03],\n",
              "        [-9.12295439e-03],\n",
              "        [-3.17452591e-04],\n",
              "        [-1.56422158e-03],\n",
              "        [ 1.40373369e-02],\n",
              "        [ 5.27935978e-02],\n",
              "        [ 9.39160626e-04],\n",
              "        [ 7.74126739e-02],\n",
              "        [ 9.45899624e-03],\n",
              "        [ 7.89229939e-02],\n",
              "        [ 1.98550117e-02],\n",
              "        [-9.76290958e-03],\n",
              "        [ 1.18064203e-02],\n",
              "        [ 2.00178769e-02],\n",
              "        [-5.28360845e-03],\n",
              "        [ 9.98036746e-02],\n",
              "        [ 7.53507620e-02],\n",
              "        [ 4.19130504e-02],\n",
              "        [ 1.61440621e-02],\n",
              "        [-3.97287362e-03],\n",
              "        [-3.52392283e-03],\n",
              "        [ 6.75967276e-02],\n",
              "        [-1.49218308e-02],\n",
              "        [ 6.44088755e-02],\n",
              "        [ 8.27177798e-03],\n",
              "        [ 5.61644430e-03],\n",
              "        [ 1.83956359e-02],\n",
              "        [ 9.85954477e-03],\n",
              "        [ 8.59766663e-03],\n",
              "        [ 4.19724214e-02],\n",
              "        [ 4.12038365e-02],\n",
              "        [-1.06332236e-02],\n",
              "        [ 4.67066488e-03],\n",
              "        [ 4.56140078e-02],\n",
              "        [ 2.01653622e-02],\n",
              "        [-1.37098014e-02],\n",
              "        [-3.43175094e-03],\n",
              "        [ 6.08033614e-02],\n",
              "        [-1.10758244e-02],\n",
              "        [-5.35893176e-03],\n",
              "        [ 4.43736144e-02],\n",
              "        [-5.61091530e-03],\n",
              "        [ 2.18027944e-03],\n",
              "        [ 9.75828303e-02],\n",
              "        [ 6.78524617e-04],\n",
              "        [ 8.60736107e-03],\n",
              "        [ 3.45285904e-02],\n",
              "        [ 2.87235279e-02],\n",
              "        [-1.20901371e-02],\n",
              "        [-8.75734956e-03],\n",
              "        [ 1.19748088e-02],\n",
              "        [ 7.32711651e-03],\n",
              "        [ 2.00798998e-02],\n",
              "        [ 1.34473177e-01],\n",
              "        [-4.84582009e-03],\n",
              "        [ 6.59173578e-02],\n",
              "        [ 1.05739024e-01],\n",
              "        [ 2.24620207e-02],\n",
              "        [-2.68960821e-03],\n",
              "        [-6.08189202e-03],\n",
              "        [ 5.94198246e-02],\n",
              "        [ 3.91041038e-02],\n",
              "        [ 3.24644398e-02],\n",
              "        [-2.80274811e-03],\n",
              "        [ 6.40162544e-03],\n",
              "        [ 1.42207906e-02],\n",
              "        [ 5.70261973e-03],\n",
              "        [ 5.32640452e-02],\n",
              "        [ 3.78521285e-02],\n",
              "        [ 2.65283093e-03],\n",
              "        [ 2.62228497e-02],\n",
              "        [-5.40382122e-03],\n",
              "        [ 6.12808632e-03],\n",
              "        [-8.33390358e-03],\n",
              "        [ 1.23771442e-02],\n",
              "        [-7.00682785e-03],\n",
              "        [-3.21528058e-03],\n",
              "        [ 2.26308826e-02],\n",
              "        [ 3.88029553e-02],\n",
              "        [ 4.65572814e-02],\n",
              "        [-6.85692412e-03],\n",
              "        [ 2.65105564e-02],\n",
              "        [ 1.37192754e-02],\n",
              "        [-1.11943527e-02],\n",
              "        [ 3.37837275e-02],\n",
              "        [-1.29196243e-02],\n",
              "        [ 4.29831698e-02],\n",
              "        [-1.75179333e-02],\n",
              "        [ 1.96131000e-02],\n",
              "        [ 4.27212093e-02],\n",
              "        [ 6.34924752e-03],\n",
              "        [-5.63034143e-03],\n",
              "        [ 2.53754148e-02],\n",
              "        [-4.99256158e-03],\n",
              "        [ 7.22323568e-02],\n",
              "        [-1.00494585e-02],\n",
              "        [-3.16088539e-03],\n",
              "        [ 6.49730394e-02],\n",
              "        [-1.74520384e-02],\n",
              "        [-4.87331032e-03],\n",
              "        [ 6.67103063e-03],\n",
              "        [ 2.62726829e-02],\n",
              "        [ 4.89856177e-02],\n",
              "        [ 4.24009211e-02],\n",
              "        [ 3.68385606e-02],\n",
              "        [-9.22564873e-03],\n",
              "        [ 4.04051633e-02],\n",
              "        [-1.02470724e-02],\n",
              "        [ 3.04639338e-02],\n",
              "        [ 1.28187581e-02],\n",
              "        [ 3.56642847e-02],\n",
              "        [ 2.28635509e-03],\n",
              "        [-6.99911151e-03],\n",
              "        [ 4.54671703e-02],\n",
              "        [ 3.24803756e-02],\n",
              "        [-2.21081664e-02],\n",
              "        [ 3.92257807e-03],\n",
              "        [-3.04605780e-03],\n",
              "        [ 7.66521359e-02],\n",
              "        [ 5.84174038e-02],\n",
              "        [ 9.94090722e-02],\n",
              "        [ 5.39434542e-02],\n",
              "        [-5.54287069e-03],\n",
              "        [ 4.37857237e-02],\n",
              "        [-1.35497283e-02],\n",
              "        [ 3.03181905e-02],\n",
              "        [ 8.64269041e-03],\n",
              "        [ 2.12050116e-02],\n",
              "        [-1.62250171e-02],\n",
              "        [ 3.59389524e-02],\n",
              "        [ 1.18268914e-01],\n",
              "        [ 8.33915385e-02],\n",
              "        [-2.78182455e-03],\n",
              "        [-1.37460612e-02],\n",
              "        [-1.76122240e-02],\n",
              "        [ 5.33362260e-02],\n",
              "        [-4.87794969e-03],\n",
              "        [-1.08747203e-04],\n",
              "        [ 6.99985241e-02],\n",
              "        [-1.26348829e-03],\n",
              "        [ 1.59569656e-03],\n",
              "        [-7.15118980e-03],\n",
              "        [ 1.98336105e-02],\n",
              "        [-9.56791495e-03],\n",
              "        [ 6.54807949e-02],\n",
              "        [ 3.82859543e-02],\n",
              "        [-1.31101134e-02],\n",
              "        [ 1.10139057e-01],\n",
              "        [-1.45367928e-02],\n",
              "        [-3.43048005e-02],\n",
              "        [ 5.11459523e-03],\n",
              "        [-1.37456085e-02],\n",
              "        [ 1.84962876e-02],\n",
              "        [-3.65302543e-03],\n",
              "        [-3.14523966e-03],\n",
              "        [-9.32523878e-03],\n",
              "        [ 4.93838723e-02],\n",
              "        [ 2.87451651e-02],\n",
              "        [ 8.76749628e-02],\n",
              "        [ 5.83550573e-02],\n",
              "        [ 8.51383112e-02],\n",
              "        [ 3.68610150e-02],\n",
              "        [ 8.85339097e-03],\n",
              "        [-1.64204314e-02],\n",
              "        [ 6.03603337e-02],\n",
              "        [-2.26930258e-02],\n",
              "        [ 2.02661620e-02],\n",
              "        [-7.78093445e-03],\n",
              "        [-2.22347662e-02],\n",
              "        [ 1.91330759e-02],\n",
              "        [ 3.86941663e-02],\n",
              "        [ 1.98529910e-03],\n",
              "        [ 2.32877663e-02],\n",
              "        [ 4.13351726e-03],\n",
              "        [ 1.58038143e-02],\n",
              "        [ 1.40629104e-02],\n",
              "        [ 1.55740303e-02],\n",
              "        [-2.92502253e-03],\n",
              "        [-1.76467209e-02],\n",
              "        [-3.99593733e-03],\n",
              "        [ 4.39870328e-02],\n",
              "        [ 1.00831691e-02],\n",
              "        [ 4.65860587e-02],\n",
              "        [ 3.25793073e-02],\n",
              "        [ 1.51695030e-03],\n",
              "        [-2.33016199e-03],\n",
              "        [ 2.28218088e-02],\n",
              "        [ 4.61525865e-03],\n",
              "        [ 3.11259340e-03],\n",
              "        [-5.88827686e-03],\n",
              "        [ 9.24908584e-05],\n",
              "        [ 3.80819246e-02],\n",
              "        [-5.02519472e-04],\n",
              "        [-3.17432148e-04],\n",
              "        [ 3.08508674e-02],\n",
              "        [-1.40865170e-02],\n",
              "        [-1.63353209e-02],\n",
              "        [ 2.22501816e-03],\n",
              "        [-4.53787974e-04],\n",
              "        [ 2.16089976e-03],\n",
              "        [-4.58372766e-03],\n",
              "        [ 1.27423476e-01],\n",
              "        [-2.67155034e-03],\n",
              "        [ 9.89078124e-02],\n",
              "        [-1.45882469e-02],\n",
              "        [-5.07905181e-03],\n",
              "        [ 5.37413934e-02],\n",
              "        [ 4.22261032e-02],\n",
              "        [-2.51519309e-02],\n",
              "        [ 8.62100802e-03],\n",
              "        [ 8.17043352e-03],\n",
              "        [ 3.83408590e-02],\n",
              "        [ 4.20583070e-02],\n",
              "        [ 1.76325274e-02],\n",
              "        [ 6.17680411e-02],\n",
              "        [ 7.67041945e-02],\n",
              "        [ 3.91824335e-02],\n",
              "        [ 6.39136547e-03],\n",
              "        [-6.00131398e-03],\n",
              "        [ 7.02336954e-02],\n",
              "        [ 4.06479886e-02],\n",
              "        [ 1.66532034e-01],\n",
              "        [ 1.23047273e-02],\n",
              "        [-2.14367438e-03],\n",
              "        [ 1.04853396e-02],\n",
              "        [ 3.60512243e-02],\n",
              "        [ 7.66926327e-02],\n",
              "        [-8.48945414e-03],\n",
              "        [ 7.34435142e-02],\n",
              "        [-9.78199236e-03],\n",
              "        [ 3.59429303e-04],\n",
              "        [-1.19723413e-02],\n",
              "        [ 4.01371939e-02],\n",
              "        [ 9.02630264e-02],\n",
              "        [ 5.82723837e-02],\n",
              "        [-5.55485437e-03],\n",
              "        [ 7.87057880e-02],\n",
              "        [ 6.57267446e-03],\n",
              "        [ 3.04578583e-02],\n",
              "        [ 5.87769695e-02],\n",
              "        [ 1.12694561e-02],\n",
              "        [ 6.08550402e-02],\n",
              "        [ 8.07719320e-04],\n",
              "        [ 7.33044710e-02],\n",
              "        [ 5.72093184e-03],\n",
              "        [ 3.64536044e-02],\n",
              "        [-2.24128641e-02],\n",
              "        [ 9.12238404e-02],\n",
              "        [ 3.08753523e-02],\n",
              "        [-1.35062893e-02],\n",
              "        [ 2.77112490e-02],\n",
              "        [ 1.11982580e-02],\n",
              "        [ 3.60456714e-04],\n",
              "        [ 2.47711141e-02],\n",
              "        [-8.68893408e-03],\n",
              "        [ 3.34458573e-03],\n",
              "        [-1.97773776e-02],\n",
              "        [ 1.67632878e-02],\n",
              "        [-4.87556614e-03],\n",
              "        [ 8.23055415e-03],\n",
              "        [ 1.73559647e-02],\n",
              "        [ 7.47486625e-02],\n",
              "        [-8.72130431e-03],\n",
              "        [-5.01191189e-03],\n",
              "        [ 1.25757019e-01],\n",
              "        [ 3.67911446e-03],\n",
              "        [ 8.84144012e-02],\n",
              "        [ 6.19490038e-02],\n",
              "        [ 1.48987746e-02],\n",
              "        [ 2.93419556e-02],\n",
              "        [ 2.41023946e-02],\n",
              "        [ 1.88496414e-02],\n",
              "        [ 5.08720736e-02],\n",
              "        [ 5.63032915e-02],\n",
              "        [-1.24901914e-02],\n",
              "        [ 1.27083233e-01],\n",
              "        [-1.33354892e-02],\n",
              "        [ 7.49408495e-02],\n",
              "        [ 1.92684570e-02],\n",
              "        [ 3.35743183e-02],\n",
              "        [ 3.83829172e-02],\n",
              "        [-2.82402509e-03],\n",
              "        [-3.53776135e-03],\n",
              "        [ 3.68213133e-02],\n",
              "        [ 3.35628372e-02],\n",
              "        [ 6.81930589e-02],\n",
              "        [-7.76308538e-03],\n",
              "        [ 1.87004794e-02],\n",
              "        [ 9.12978483e-03],\n",
              "        [-1.88125682e-02],\n",
              "        [ 2.91931404e-02],\n",
              "        [-6.67035282e-03],\n",
              "        [ 2.22120334e-02],\n",
              "        [ 1.45822290e-03],\n",
              "        [ 1.77627194e-02],\n",
              "        [ 1.16321977e-01],\n",
              "        [ 4.34416183e-02],\n",
              "        [-5.96297873e-03],\n",
              "        [-6.34077344e-04],\n",
              "        [ 4.16113514e-02],\n",
              "        [ 6.61366346e-03],\n",
              "        [ 1.28461524e-02],\n",
              "        [-4.13600662e-02],\n",
              "        [ 6.74927747e-03],\n",
              "        [ 5.48062276e-02],\n",
              "        [ 1.88976583e-02],\n",
              "        [-6.15265275e-03],\n",
              "        [-8.78709999e-03],\n",
              "        [-6.76240416e-03],\n",
              "        [-1.35834704e-02],\n",
              "        [ 4.38039150e-02],\n",
              "        [-1.27279125e-02],\n",
              "        [ 3.94186221e-03],\n",
              "        [ 8.64945695e-02],\n",
              "        [ 5.13479124e-02],\n",
              "        [ 3.94378682e-02],\n",
              "        [ 4.57843185e-03],\n",
              "        [-5.47210970e-05],\n",
              "        [ 2.48142415e-03],\n",
              "        [-1.66006931e-02],\n",
              "        [ 3.90433478e-03],\n",
              "        [-4.55074186e-03],\n",
              "        [ 3.25009520e-03],\n",
              "        [ 3.11619655e-02],\n",
              "        [ 6.47172141e-03],\n",
              "        [ 6.78095939e-02],\n",
              "        [ 1.01618726e-01],\n",
              "        [-1.32724388e-02],\n",
              "        [-9.71671073e-03],\n",
              "        [-1.16554066e-02],\n",
              "        [ 1.20949698e-02],\n",
              "        [ 7.08054864e-02],\n",
              "        [ 7.43923191e-02],\n",
              "        [ 9.58296361e-03],\n",
              "        [ 3.93195438e-02],\n",
              "        [ 1.45388892e-02],\n",
              "        [-1.01980879e-04],\n",
              "        [ 2.39406202e-02],\n",
              "        [ 5.16916022e-02],\n",
              "        [ 5.32549440e-02],\n",
              "        [ 7.85415223e-04],\n",
              "        [ 3.74847460e-03],\n",
              "        [-7.60628218e-03],\n",
              "        [ 9.11254879e-03],\n",
              "        [ 4.25728861e-02],\n",
              "        [ 4.53335400e-02],\n",
              "        [ 1.90925725e-02],\n",
              "        [ 1.94591779e-02],\n",
              "        [ 8.88218754e-03],\n",
              "        [-1.72123402e-02],\n",
              "        [-4.51410808e-03],\n",
              "        [ 7.50650366e-02],\n",
              "        [ 3.76453593e-02],\n",
              "        [ 3.70104823e-03],\n",
              "        [ 7.13101033e-02],\n",
              "        [ 2.83917054e-02],\n",
              "        [ 7.13452709e-03],\n",
              "        [ 1.01079243e-02],\n",
              "        [ 6.97712606e-03],\n",
              "        [ 1.22756980e-01],\n",
              "        [ 3.96144191e-02],\n",
              "        [-1.81973130e-02],\n",
              "        [ 7.64832962e-03],\n",
              "        [ 8.17239536e-02],\n",
              "        [ 1.60469653e-01],\n",
              "        [-2.55628586e-03],\n",
              "        [-1.94615809e-02],\n",
              "        [-2.44748102e-03],\n",
              "        [ 1.56471891e-02],\n",
              "        [-1.52763816e-02],\n",
              "        [ 8.42804772e-02],\n",
              "        [-1.32648739e-02],\n",
              "        [ 3.44341249e-03],\n",
              "        [ 2.38915229e-03],\n",
              "        [-2.59820771e-02],\n",
              "        [-3.18323135e-05],\n",
              "        [ 2.00622630e-02],\n",
              "        [ 1.10720603e-04],\n",
              "        [ 1.48161743e-02],\n",
              "        [ 2.34723519e-02],\n",
              "        [ 3.61769253e-02],\n",
              "        [-2.01687862e-02],\n",
              "        [-4.77046243e-03],\n",
              "        [-2.62602629e-02],\n",
              "        [ 5.88664018e-02],\n",
              "        [ 7.97461306e-02],\n",
              "        [ 2.86599875e-03],\n",
              "        [-1.41187332e-03],\n",
              "        [-1.22843825e-02],\n",
              "        [ 1.08484950e-02],\n",
              "        [ 6.35896106e-03],\n",
              "        [-5.21176940e-03],\n",
              "        [-1.90616564e-02],\n",
              "        [-3.68106897e-03],\n",
              "        [ 2.23165309e-02],\n",
              "        [ 1.64498760e-02],\n",
              "        [-3.76390517e-03],\n",
              "        [-2.04626820e-03],\n",
              "        [ 1.05039673e-02],\n",
              "        [ 3.10588317e-02],\n",
              "        [ 1.48691196e-02],\n",
              "        [ 3.15343689e-02],\n",
              "        [ 5.98452720e-02],\n",
              "        [ 3.53701417e-03],\n",
              "        [ 3.06080988e-03],\n",
              "        [ 5.33421502e-02],\n",
              "        [ 4.18783064e-04],\n",
              "        [ 5.77331985e-03],\n",
              "        [ 8.16858718e-02],\n",
              "        [ 5.72204322e-02],\n",
              "        [ 2.30245192e-02],\n",
              "        [ 2.78971817e-03],\n",
              "        [ 1.03790289e-02],\n",
              "        [-6.44881211e-03],\n",
              "        [ 6.79106144e-02],\n",
              "        [-1.18516308e-02],\n",
              "        [ 1.78540838e-02],\n",
              "        [-4.33744772e-03],\n",
              "        [-5.64289940e-04],\n",
              "        [-3.48735864e-02],\n",
              "        [ 3.47010089e-02],\n",
              "        [ 2.09266911e-02],\n",
              "        [ 3.56600420e-02],\n",
              "        [ 1.24658269e-02],\n",
              "        [ 1.93136789e-02],\n",
              "        [ 3.58816686e-03],\n",
              "        [-2.70218993e-03],\n",
              "        [ 3.13914238e-03],\n",
              "        [-2.84527811e-03],\n",
              "        [-2.06292587e-03],\n",
              "        [ 1.71199692e-02],\n",
              "        [-1.32618326e-02],\n",
              "        [-1.40805432e-04],\n",
              "        [ 1.18010707e-02],\n",
              "        [-2.98605972e-03],\n",
              "        [-3.69216972e-03],\n",
              "        [ 1.96696614e-02],\n",
              "        [ 3.32693074e-02],\n",
              "        [ 1.71506663e-01],\n",
              "        [ 3.15899135e-02],\n",
              "        [ 6.95340815e-03],\n",
              "        [ 7.35545374e-02],\n",
              "        [ 2.99388389e-02],\n",
              "        [ 7.94905785e-03],\n",
              "        [-3.32875398e-05],\n",
              "        [ 6.25379568e-02],\n",
              "        [ 2.10347893e-02],\n",
              "        [ 4.07028702e-02],\n",
              "        [-1.00551543e-03],\n",
              "        [ 2.83416259e-02],\n",
              "        [ 6.13167883e-03],\n",
              "        [ 1.78171499e-02],\n",
              "        [-9.47826159e-03],\n",
              "        [ 1.28083651e-02],\n",
              "        [ 8.63906115e-02],\n",
              "        [-1.31078277e-04],\n",
              "        [ 6.07592967e-03],\n",
              "        [ 5.61102756e-02],\n",
              "        [-1.97998268e-03],\n",
              "        [-1.51955810e-02],\n",
              "        [-9.68176103e-04],\n",
              "        [ 2.10016505e-03],\n",
              "        [ 5.82386627e-02],\n",
              "        [ 6.42956576e-02],\n",
              "        [ 1.40084071e-02],\n",
              "        [ 4.59876255e-02],\n",
              "        [ 7.27931517e-03],\n",
              "        [ 7.34721796e-03],\n",
              "        [ 3.54797031e-02],\n",
              "        [ 6.62439292e-02],\n",
              "        [ 3.92786455e-02],\n",
              "        [ 9.97754655e-02],\n",
              "        [ 3.01611887e-02]]),\n",
              " 'b3': array([[-0.55921943],\n",
              "        [-0.2002052 ],\n",
              "        [-0.4899671 ],\n",
              "        [-0.5839688 ],\n",
              "        [-0.30094626],\n",
              "        [-0.09822802],\n",
              "        [-0.51665147],\n",
              "        [-0.40289095],\n",
              "        [-0.86846152],\n",
              "        [-0.49680321]])}"
            ]
          },
          "metadata": {
            "tags": []
          },
          "execution_count": 28
        }
      ]
    },
    {
      "cell_type": "code",
      "metadata": {
        "id": "HYFwKkyQNbrr",
        "colab_type": "code",
        "colab": {
          "base_uri": "https://localhost:8080/",
          "height": 50
        },
        "outputId": "2577a9f7-829c-4e5d-80a5-d0454474a34b"
      },
      "source": [
        "_, _, A = forward_prop(params, x_test.T, Y_test, 0, 0)\n",
        "_, _, A_t = forward_prop(params, x_train.T, Y_train, 0, 0)"
      ],
      "execution_count": null,
      "outputs": [
        {
          "output_type": "stream",
          "text": [
            "Cost at iteration 0 = 0.22458282824601333\n",
            "Cost at iteration 0 = 0.10869141585860348\n"
          ],
          "name": "stdout"
        }
      ]
    },
    {
      "cell_type": "code",
      "metadata": {
        "id": "Vew99bOfNbrv",
        "colab_type": "code",
        "colab": {}
      },
      "source": [
        "pred = np.argmax(A, axis=0)\n",
        "pred1 = np.argmax(A_t, axis=0)"
      ],
      "execution_count": null,
      "outputs": []
    },
    {
      "cell_type": "code",
      "metadata": {
        "id": "NYGwA6AMNbr0",
        "colab_type": "code",
        "colab": {
          "base_uri": "https://localhost:8080/",
          "height": 34
        },
        "outputId": "72c4df08-337c-4e5d-b239-2bea808bba7b"
      },
      "source": [
        "np.mean(y_test == pred)"
      ],
      "execution_count": null,
      "outputs": [
        {
          "output_type": "execute_result",
          "data": {
            "text/plain": [
              "0.967"
            ]
          },
          "metadata": {
            "tags": []
          },
          "execution_count": 31
        }
      ]
    },
    {
      "cell_type": "code",
      "metadata": {
        "id": "e_CL0nTDNbr4",
        "colab_type": "code",
        "colab": {
          "base_uri": "https://localhost:8080/",
          "height": 34
        },
        "outputId": "1afbef99-f952-46d9-fb9d-7d0fbe4662ae"
      },
      "source": [
        "np.mean(y_train == pred1)"
      ],
      "execution_count": null,
      "outputs": [
        {
          "output_type": "execute_result",
          "data": {
            "text/plain": [
              "0.988275"
            ]
          },
          "metadata": {
            "tags": []
          },
          "execution_count": 32
        }
      ]
    },
    {
      "cell_type": "code",
      "metadata": {
        "id": "K0ACG3WqNbr9",
        "colab_type": "code",
        "colab": {},
        "outputId": "f2f7d53e-bb29-4970-9d56-4000237f80e9"
      },
      "source": [
        "x_train.shape"
      ],
      "execution_count": null,
      "outputs": [
        {
          "output_type": "execute_result",
          "data": {
            "text/plain": [
              "(40000, 784)"
            ]
          },
          "metadata": {
            "tags": []
          },
          "execution_count": 55
        }
      ]
    },
    {
      "cell_type": "code",
      "metadata": {
        "id": "wgc_9XcVNbsB",
        "colab_type": "code",
        "colab": {}
      },
      "source": [
        "for i in range(len(pred)):\n",
        "    print(str(pred[i]) + \" \" + str(y_test[i]))"
      ],
      "execution_count": null,
      "outputs": []
    },
    {
      "cell_type": "code",
      "metadata": {
        "id": "U0MDU_JiNbsF",
        "colab_type": "code",
        "colab": {}
      },
      "source": [
        "y_test.tolist()"
      ],
      "execution_count": null,
      "outputs": []
    },
    {
      "cell_type": "code",
      "metadata": {
        "id": "qvVDyc46NbsI",
        "colab_type": "code",
        "colab": {
          "base_uri": "https://localhost:8080/",
          "height": 34
        },
        "outputId": "91e8b94c-1aa2-4186-ed9b-69799054738b"
      },
      "source": [
        "# SAVING THE PARAMETERS IN A CSV FILE\n",
        "\n",
        "os.chdir('/content/drive/My Drive/Digit Recognizer/Parameters/')\n",
        "L = int(len(params)/2)\n",
        "for l in tqdm(range(1, L+1)):\n",
        "    with open('params W' + str(l) + '.csv', 'w', newline='') as file:\n",
        "        writer = csv.writer(file)\n",
        "        writer.writerow(np.ones(params['W' + str(l)].shape[1]) * 2)\n",
        "        writer.writerows(params['W' + str(l)])\n",
        "    \n",
        "    with open('params b' + str(l) + '.csv', 'w', newline='') as file:\n",
        "        writer = csv.writer(file)\n",
        "        writer.writerow(np.ones(params['b' + str(l)].shape[1]) * 2)\n",
        "        writer.writerows(params['b' + str(l)])"
      ],
      "execution_count": null,
      "outputs": [
        {
          "output_type": "stream",
          "text": [
            "100%|██████████| 3/3 [00:01<00:00,  2.76it/s]\n"
          ],
          "name": "stderr"
        }
      ]
    },
    {
      "cell_type": "code",
      "metadata": {
        "id": "roDkfk5zNbsM",
        "colab_type": "code",
        "colab": {}
      },
      "source": [
        ""
      ],
      "execution_count": null,
      "outputs": []
    }
  ]
}